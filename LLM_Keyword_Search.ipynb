{
  "nbformat": 4,
  "nbformat_minor": 0,
  "metadata": {
    "colab": {
      "provenance": [],
      "authorship_tag": "ABX9TyNZ63A7rxmbIvba4AV7Ksw/",
      "include_colab_link": true
    },
    "kernelspec": {
      "name": "python3",
      "display_name": "Python 3"
    },
    "language_info": {
      "name": "python"
    }
  },
  "cells": [
    {
      "cell_type": "markdown",
      "metadata": {
        "id": "view-in-github",
        "colab_type": "text"
      },
      "source": [
        "<a href=\"https://colab.research.google.com/github/Sweta-Das/DLCourse-LLMUsingSemanticSearch/blob/main/LLM_Keyword_Search.ipynb\" target=\"_parent\"><img src=\"https://colab.research.google.com/assets/colab-badge.svg\" alt=\"Open In Colab\"/></a>"
      ]
    },
    {
      "cell_type": "code",
      "execution_count": null,
      "metadata": {
        "id": "m0x5MhxKmYex"
      },
      "outputs": [],
      "source": [
        "!pip install cohere\n",
        "!pip install weaviate-client"
      ]
    },
    {
      "cell_type": "code",
      "source": [
        "pip install python-dotenv"
      ],
      "metadata": {
        "colab": {
          "base_uri": "https://localhost:8080/"
        },
        "id": "-9oS2KMingmY",
        "outputId": "11308ee5-274e-46b6-9ed3-a31fd9742cb6"
      },
      "execution_count": null,
      "outputs": [
        {
          "output_type": "stream",
          "name": "stdout",
          "text": [
            "Collecting python-dotenv\n",
            "  Downloading python_dotenv-1.0.0-py3-none-any.whl (19 kB)\n",
            "Installing collected packages: python-dotenv\n",
            "Successfully installed python-dotenv-1.0.0\n"
          ]
        }
      ]
    },
    {
      "cell_type": "code",
      "source": [
        "# Loading database and necessary API keys\n",
        "import os\n",
        "from dotenv import load_dotenv, find_dotenv\n",
        "\n",
        "# reading local .env file\n",
        "_ = load_dotenv(find_dotenv())"
      ],
      "metadata": {
        "id": "6IIczKv4m5Vf"
      },
      "execution_count": null,
      "outputs": []
    },
    {
      "cell_type": "code",
      "source": [
        "# Importing weaviate\n",
        "import weaviate\n",
        "auth_config = weaviate.auth.AuthApiKey(api_key= \"76320a90-53d8-42bc-b41d-678647c6672e\")"
      ],
      "metadata": {
        "id": "RAkkLxfCoQoB"
      },
      "execution_count": null,
      "outputs": []
    },
    {
      "cell_type": "markdown",
      "source": [
        "Weaviate is an open-source database that allows to connect to an online database. Here, to access the Wikipedia database.<br/>\n",
        "It has keyword search capabilities & also vector-search capabilities."
      ],
      "metadata": {
        "id": "2HOX1BdcoSx1"
      }
    },
    {
      "cell_type": "code",
      "source": [
        "client = weaviate.Client(\n",
        "    url = \"https://cohere-demo.weaviate.network/\",\n",
        "    auth_client_secret = auth_config,\n",
        "    additional_headers = {\"X-Cohere-Api-Key\": \"nwgNN3UCHd2g0wEzM0pYQd4KSxoRVJkLPmB9d6AP\"}\n",
        ")"
      ],
      "metadata": {
        "id": "8lNl1qTaqyrR"
      },
      "execution_count": null,
      "outputs": []
    },
    {
      "cell_type": "markdown",
      "source": [
        "The given url points to an online database that contains 10 million records. Each row of this records are a paragraph from Wikipedia. These 10 million records are in 10 different languages (1 million each)."
      ],
      "metadata": {
        "id": "6WYLOLOcrncr"
      }
    },
    {
      "cell_type": "code",
      "source": [
        "client.is_ready()"
      ],
      "metadata": {
        "colab": {
          "base_uri": "https://localhost:8080/"
        },
        "id": "2uWyXb30wZE0",
        "outputId": "24ee5b4f-8263-4c25-d7ef-8309d5d478b6"
      },
      "execution_count": null,
      "outputs": [
        {
          "output_type": "execute_result",
          "data": {
            "text/plain": [
              "True"
            ]
          },
          "metadata": {},
          "execution_count": 29
        }
      ]
    },
    {
      "cell_type": "markdown",
      "source": [
        "### Keyword Search"
      ],
      "metadata": {
        "id": "XKtE-O2exBzO"
      }
    },
    {
      "cell_type": "markdown",
      "source": [
        "For keyword search we're trying to access articles and providing certain properties of articles as arguments."
      ],
      "metadata": {
        "id": "kpOncqasxUpk"
      }
    },
    {
      "cell_type": "code",
      "source": [
        "def keyword_search(query, results_lang= 'en', properties= [\"title\", \"url\", \"text\"], num_results= 3):\n",
        "\n",
        "  # Filter used to limiting text to only English results\n",
        "  where_filter = {\n",
        "      \"path\": [\"lang\"],\n",
        "      \"operator\": \"Equal\",\n",
        "      \"valueString\": results_lang\n",
        "  }\n",
        "\n",
        "  response = (client.query.get(\"Articles\", properties)\n",
        "              .with_bm25(\n",
        "                  query= query\n",
        "              )\n",
        "              .with_where(where_filter)\n",
        "              .with_limit(num_results) # number of results\n",
        "              .do()\n",
        "            )\n",
        "\n",
        "  result = response['data']['Get']['Articles']\n",
        "  return result"
      ],
      "metadata": {
        "id": "0Zj9VM0HxBEW"
      },
      "execution_count": null,
      "outputs": []
    },
    {
      "cell_type": "markdown",
      "source": [
        "bm25 is a commonly used keyword (lexical) search algo. that scores the doc in the archive vs. the query."
      ],
      "metadata": {
        "id": "lT5YvxucxoW5"
      }
    },
    {
      "cell_type": "code",
      "source": [
        "query = \"What is the most viewed televised event?\"\n",
        "keyword_search_results = keyword_search(query)\n",
        "print(keyword_search_results)"
      ],
      "metadata": {
        "colab": {
          "base_uri": "https://localhost:8080/"
        },
        "id": "29lcwZbky65z",
        "outputId": "252f929b-de80-4d88-e2d8-c50aca615c16"
      },
      "execution_count": null,
      "outputs": [
        {
          "output_type": "stream",
          "name": "stdout",
          "text": [
            "[{'text': 'The most active Gamergate supporters or \"Gamergaters\" said that Gamergate was a movement for ethics in games journalism, for protecting the \"gamer\" identity, and for opposing \"political correctness\" in video games and that any harassment of women was done by others not affiliated with Gamergate. They argued that the close relationships between journalists and developers demonstrated a conspiracy among reviewers to focus on progressive social issues. Some supporters pointed to what they considered disproportionate praise for games such as \"Depression Quest\" and \"Gone Home\", which feature unconventional gameplay and stories with social implications, while they viewed traditional AAA games as downplayed. False claims of the \"ethics in game journalism\" had started as early as 2012, when Geoff Keighley was accused of such unethical behavior when he was presenting information about \"Halo 4\" among advertisements for Mountain Dew and Doritos, an event called \"Doritosgate\" in the gamer culture.', 'title': 'Gamergate (harassment campaign)', 'url': 'https://en.wikipedia.org/wiki?curid=43758363'}, {'text': '\"Rolling Stone\" stated Jackson\\'s Super Bowl performance \"is far and away the most famous moment in the history of the Super Bowl halftime show\". \"PopCrush\" called the performance \"one of the most shocking moments in pop culture\" as well as a \"totally unexpected and unforgettable moment\". \"Gawker\" ranked the performance among the most recent of the \"10 Shows that Advanced Sex on Television\", commenting the set \"had all the elements of a huge story\" and \"within seconds the world searched furtively for pictures\", concluding \"it remains so ubiquitous, it\\'s impossible to look at a starburst nipple shield without thinking \"Janet Jackson\"\". \"E! Online\" ranked it among the top ten most shocking celebrity moments of the prior two decades. A study of television\\'s most impactful moments of the last 50 years conducted by Sony Electronics and the Nielsen Television Research Company ranked Jackson\\'s Super Bowl performance at #26. The incident was the only Super Bowl event on the list and the highest music and entertainment event aside from the death of Whitney Houston. TV Guide Network ranked it at #2 in a 2010 special listing the \"25 Biggest TV Blunders\". \"Complex\" stated \"It\\'s the Citizen Kane of televised nip-slips—so unexpected, and on such a large stage, that nothing else will ever come close. If Beyoncé were to whip out both breasts and put on a puppet show with them when she performs this year in New Orleans, it would rate as just the second most shocking Super Boob display. Janet\\'s strangely ornamented right nipple is a living legend, and so is Justin Timberlake\\'s terrified reaction.\" Music channel Fuse listed it as the most controversial Super Bowl halftime show, saying the \"revealing performance remains (and will forever remain) the craziest thing to ever happen at a halftime show. Almost immediately after the incident, the FCC received a flood of complaints from parents who just wanted their children to enjoy a nice, wholesome three hours of grown men inflicting damaging and long-lasting pain on each other for sport. Halftime shows would never be the same.\" Patrick Gipson of \"Bleacher Report\" ranked it as #1 in its list of the most \"Jaw Dropping Moments of the Last Decade\", stating Janet \"changed the landscape of live television forever\". Gipson explained \"It prompted a million mothers to cover their eyes, fathers and sons to jump out of their seats in shock and numerous sanctions by the Federal Communications Commission, including a US$550,000 fine against CBS. Talk about a halftime show that will be hard to top.\" The incident was also declared \"the most memorable Super Bowl halftime show in history\", as well as \"the most controversial\", adding \"you can\\'t talk about this halftime show, or any subsequent halftime show from here to eternity, without mentioning the wardrobe malfunction\".', 'title': 'Super Bowl XXXVIII halftime show controversy', 'url': 'https://en.wikipedia.org/wiki?curid=498971'}, {'text': 'West Germany (established in May 1949) was not eligible for the 1950 World Cup (the first after the war), and so all preparations were made with a view toward the 1954 matches in Bern, Switzerland. By that time Adidas\\'s football boots were considerably lighter than the ones made before the war, based on English designs. At the World Cup Adi had a secret weapon, which he revealed when West Germany made the finals against the overwhelmingly favored Hungarian team, which was undefeated since May 1950 and had defeated West Germany 8–3 in group play. Despite this defeat, West Germany made the knock-out rounds by twice defeating Turkey handily. The team defeated Yugoslavia and Austria to reach the final (a remarkable achievement), where the hope of many German fans was simply that the team \"avoid another humiliating defeat\" at the hands of the Hungarians. The day of the final began with light rain, which brightened the prospects of the West German team who called it \"\"Fritz Walter-Wetter\"\" because the team\\'s best player excelled in muddy conditions. Dassler informed Herberger before the match of his latest innovation—\"screw in studs.\" Unlike the traditional boot which had fixed leather spike studs, Dassler\\'s shoe allowed spikes of various lengths to be affixed depending on the state of the pitch. As the playing field at Wankdorf Stadium drastically deteriorated, Herberger famously announced, \"Adi, screw them on.\" The longer spikes improved the footing of West German players compared to the Hungarians whose mud-caked boots were also much heavier. The West Germans staged a come from behind upset, winning 3-2, in what became known as the \"Miracle in Bern.\" Herberger publicly praised Dassler as a key contributor to the win, and Adidas\\'s fame rose both in West Germany, where the win was considered a key post-war event in restoring German self-esteem and abroad, where in the first televised World Cup final viewers were introduced to \"the ultimate breakthrough.\"', 'title': 'Adolf Dassler', 'url': 'https://en.wikipedia.org/wiki?curid=2373164'}]\n"
          ]
        }
      ]
    },
    {
      "cell_type": "markdown",
      "source": [
        "Checking output in other languages (fr, it, ja, hi)"
      ],
      "metadata": {
        "id": "RE60cvQRzgiU"
      }
    },
    {
      "cell_type": "code",
      "source": [
        "def keyword_search(query, results_lang= 'hi', properties= [\"title\", \"url\", \"text\"], num_results= 3):\n",
        "\n",
        "  # Filter used to limiting text to only English results\n",
        "  where_filter = {\n",
        "      \"path\": [\"lang\"],\n",
        "      \"operator\": \"Equal\",\n",
        "      \"valueString\": results_lang\n",
        "  }\n",
        "\n",
        "  response = (client.query.get(\"Articles\", properties)\n",
        "              .with_bm25(\n",
        "                  query= query\n",
        "              )\n",
        "              .with_where(where_filter)\n",
        "              .with_limit(num_results) # number of results\n",
        "              .do()\n",
        "            )\n",
        "\n",
        "  result = response['data']['Get']['Articles']\n",
        "  return result"
      ],
      "metadata": {
        "id": "AifCaM3Qzj9E"
      },
      "execution_count": null,
      "outputs": []
    },
    {
      "cell_type": "code",
      "source": [
        "query = \"What is the most viewed televised event?\"\n",
        "keyword_search_results = keyword_search(query)\n",
        "print(keyword_search_results)"
      ],
      "metadata": {
        "colab": {
          "base_uri": "https://localhost:8080/"
        },
        "id": "uzWOARXXzzNX",
        "outputId": "cde6e0c3-2603-428d-f882-88a4f7190f8f"
      },
      "execution_count": null,
      "outputs": [
        {
          "output_type": "stream",
          "name": "stdout",
          "text": [
            "[{'text': 'फरवरी 2020 में, विश्व स्वास्थ्य संगठन (WHO) ने कहा कि कोविड-१९ का टीका 18 महीने से कम समय में उपलब्ध होने की उम्मीद नहीं की जा सकती। किसी नई महामारी के टीके की तैयारी के नवाचारों का गठबंधन (CEPI) (The ) जो वैक्सीन उम्मीदवारों के तेजी से विकास के लिए दुनिया भर में US$2 बिलियन फंड आयोजित कर रहा है अप्रैल में संकेत दिया गया कि 12 महीने से कम या 2021 की शुरुआत में आपातकालीन उपयोग के लिए इसका टीका उपलब्ध हो सकता है। 4 मई 2020 को WHO ने COVID-19 संक्रमण को रोकने के लिए और टीकों के तेजी से विकास का समर्थन करने के लिए चालीस देशों से US$8 बिलियन जुटाने के लिए एक टेलीथॉन (televised fundraising event )का आयोजन किया, साथ ही कई वैक्सीन उम्मीदवारों के एक साथ मूल्यांकन के लिए चरण II-III नैदानिक परीक्षण के नाम से एक अंतर्राष्ट्रीय \"सॉलिडैरिटी ट्रायल\" की तैनाती की घोषणा की, ।', 'title': 'कोविड-19 का टीका', 'url': 'https://hi.wikipedia.org/wiki?curid=1174739'}, {'text': 'Meanwhile, James Boswell, then in Paris, offered to escort Thérèse to Rousseau. (Boswell had earlier met Rousseau and Thérèse at Motiers; he had subsequently also sent Thérèse a garnet necklace and had written to Rousseau seeking permission to occasionally communicate with her.) Hume foresaw what was going to happen: \"I dread some event fatal to our friend\\'s honor.\" Boswell and Thérèse were together for more than a week, and as per notes in Boswell\\'s diary they consummated the relationship, having intercourse several times. On one occasion, Thérèse told Boswell: \"Don\\'t imagine you are a better lover than Rousseau.\"', 'title': 'जाँ जैक रूसों', 'url': 'https://hi.wikipedia.org/wiki?curid=1286547'}, {'text': 'An event takes place that suddenly morphs the movie from a lighthearted comedy into a thriller. One evening Tanya (Jharana Bajracharya), an attractive woman, and a native of Pokhara, who was a fellow traveler on the flight from Mumbai lands up with Abby that angers Maxi and she refuses to speak normally to Abby the next day. Abby, also a bit hurt and angry, lands up spending the night with Tanya after a drinking bout only to wake up the next day and see that she is lying murdered next to him. He runs away from the scene, quite certain that he will be blamed for killing her. He confesses the real fact to Maxi and his friend Sandy (Sweta Keswani). As the local police start to chase the leads, Abby confides in Bunty (Rajpal Yadav), the local Guide, and Maxi, and both disbelieve him. He also starts to get calls from a stranger demanding something. With police in hot chase, it is now up to him to find out who really killed Tanya, what was the motive for her death, and who wanted him at the scene of the crime.', 'title': 'लव इन नेपाल (2004 फ़िल्म)', 'url': 'https://hi.wikipedia.org/wiki?curid=1353629'}]\n"
          ]
        }
      ]
    },
    {
      "cell_type": "markdown",
      "source": [
        "Output is in Hindi."
      ],
      "metadata": {
        "id": "EgcX6dt9z3kf"
      }
    },
    {
      "cell_type": "markdown",
      "source": [
        "### Trying to modify the search options"
      ],
      "metadata": {
        "id": "dJMWPWAC0h4s"
      }
    },
    {
      "cell_type": "code",
      "source": [
        "properties = [\"text\", \"title\", \"url\", \"views\", \"lang\"]"
      ],
      "metadata": {
        "id": "cmEEda8az52C"
      },
      "execution_count": null,
      "outputs": []
    },
    {
      "cell_type": "code",
      "source": [
        "def print_results(result):\n",
        "\n",
        "  # Printing results with colorful formatting\n",
        "  for i, item in enumerate(result):\n",
        "    print(f'item {i}')\n",
        "    for key in item.keys():\n",
        "      print(f\"{key}:{item.get(key)}\")\n",
        "      print()\n",
        "    print()"
      ],
      "metadata": {
        "id": "oNtNPNDu0-j6"
      },
      "execution_count": null,
      "outputs": []
    },
    {
      "cell_type": "code",
      "source": [
        "print_results(keyword_search_results)"
      ],
      "metadata": {
        "id": "-Ol8g2rl1Vad",
        "outputId": "44e2df5a-76a3-45a5-fc20-76e3b993e736",
        "colab": {
          "base_uri": "https://localhost:8080/"
        }
      },
      "execution_count": null,
      "outputs": [
        {
          "output_type": "stream",
          "name": "stdout",
          "text": [
            "item 0\n",
            "text:फरवरी 2020 में, विश्व स्वास्थ्य संगठन (WHO) ने कहा कि कोविड-१९ का टीका 18 महीने से कम समय में उपलब्ध होने की उम्मीद नहीं की जा सकती। किसी नई महामारी के टीके की तैयारी के नवाचारों का गठबंधन (CEPI) (The ) जो वैक्सीन उम्मीदवारों के तेजी से विकास के लिए दुनिया भर में US$2 बिलियन फंड आयोजित कर रहा है अप्रैल में संकेत दिया गया कि 12 महीने से कम या 2021 की शुरुआत में आपातकालीन उपयोग के लिए इसका टीका उपलब्ध हो सकता है। 4 मई 2020 को WHO ने COVID-19 संक्रमण को रोकने के लिए और टीकों के तेजी से विकास का समर्थन करने के लिए चालीस देशों से US$8 बिलियन जुटाने के लिए एक टेलीथॉन (televised fundraising event )का आयोजन किया, साथ ही कई वैक्सीन उम्मीदवारों के एक साथ मूल्यांकन के लिए चरण II-III नैदानिक परीक्षण के नाम से एक अंतर्राष्ट्रीय \"सॉलिडैरिटी ट्रायल\" की तैनाती की घोषणा की, ।\n",
            "\n",
            "title:कोविड-19 का टीका\n",
            "\n",
            "url:https://hi.wikipedia.org/wiki?curid=1174739\n",
            "\n",
            "\n",
            "item 1\n",
            "text:Meanwhile, James Boswell, then in Paris, offered to escort Thérèse to Rousseau. (Boswell had earlier met Rousseau and Thérèse at Motiers; he had subsequently also sent Thérèse a garnet necklace and had written to Rousseau seeking permission to occasionally communicate with her.) Hume foresaw what was going to happen: \"I dread some event fatal to our friend's honor.\" Boswell and Thérèse were together for more than a week, and as per notes in Boswell's diary they consummated the relationship, having intercourse several times. On one occasion, Thérèse told Boswell: \"Don't imagine you are a better lover than Rousseau.\"\n",
            "\n",
            "title:जाँ जैक रूसों\n",
            "\n",
            "url:https://hi.wikipedia.org/wiki?curid=1286547\n",
            "\n",
            "\n",
            "item 2\n",
            "text:An event takes place that suddenly morphs the movie from a lighthearted comedy into a thriller. One evening Tanya (Jharana Bajracharya), an attractive woman, and a native of Pokhara, who was a fellow traveler on the flight from Mumbai lands up with Abby that angers Maxi and she refuses to speak normally to Abby the next day. Abby, also a bit hurt and angry, lands up spending the night with Tanya after a drinking bout only to wake up the next day and see that she is lying murdered next to him. He runs away from the scene, quite certain that he will be blamed for killing her. He confesses the real fact to Maxi and his friend Sandy (Sweta Keswani). As the local police start to chase the leads, Abby confides in Bunty (Rajpal Yadav), the local Guide, and Maxi, and both disbelieve him. He also starts to get calls from a stranger demanding something. With police in hot chase, it is now up to him to find out who really killed Tanya, what was the motive for her death, and who wanted him at the scene of the crime.\n",
            "\n",
            "title:लव इन नेपाल (2004 फ़िल्म)\n",
            "\n",
            "url:https://hi.wikipedia.org/wiki?curid=1353629\n",
            "\n",
            "\n"
          ]
        }
      ]
    }
  ]
}