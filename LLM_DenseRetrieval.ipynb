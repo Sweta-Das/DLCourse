{
  "nbformat": 4,
  "nbformat_minor": 0,
  "metadata": {
    "colab": {
      "provenance": [],
      "authorship_tag": "ABX9TyMvCMpKqm6g1L3t2s1feos+",
      "include_colab_link": true
    },
    "kernelspec": {
      "name": "python3",
      "display_name": "Python 3"
    },
    "language_info": {
      "name": "python"
    }
  },
  "cells": [
    {
      "cell_type": "markdown",
      "metadata": {
        "id": "view-in-github",
        "colab_type": "text"
      },
      "source": [
        "<a href=\"https://colab.research.google.com/github/Sweta-Das/DLCourse-LLMUsingSemanticSearch/blob/main/LLM_DenseRetrieval.ipynb\" target=\"_parent\"><img src=\"https://colab.research.google.com/assets/colab-badge.svg\" alt=\"Open In Colab\"/></a>"
      ]
    },
    {
      "cell_type": "code",
      "execution_count": null,
      "metadata": {
        "id": "xxys9zvw5ueW"
      },
      "outputs": [],
      "source": [
        "!pip install cohere"
      ]
    },
    {
      "cell_type": "code",
      "source": [
        "!pip install python-dotenv"
      ],
      "metadata": {
        "id": "Nk-8QNFl6RNC"
      },
      "execution_count": null,
      "outputs": []
    },
    {
      "cell_type": "code",
      "source": [
        "import os\n",
        "from dotenv import load_dotenv, find_dotenv\n",
        "_ = load_dotenv(find_dotenv()) # reading local .env file"
      ],
      "metadata": {
        "id": "J96U3oRc6WbY"
      },
      "execution_count": null,
      "outputs": []
    },
    {
      "cell_type": "code",
      "source": [
        "import cohere\n",
        "co = cohere.Client('Cohere_API_key')"
      ],
      "metadata": {
        "id": "DYc3RXHB6jv3"
      },
      "execution_count": null,
      "outputs": []
    },
    {
      "cell_type": "code",
      "source": [
        "!pip install weaviate-client"
      ],
      "metadata": {
        "id": "96mUp1VK7Evj"
      },
      "execution_count": null,
      "outputs": []
    },
    {
      "cell_type": "code",
      "source": [
        "import weaviate\n",
        "auth_config = weaviate.auth.AuthApiKey(\n",
        "    api_key = '76320a90-53d8-42bc-b41d-678647c6672e'\n",
        ")"
      ],
      "metadata": {
        "id": "aJ2fZtXU6s-d"
      },
      "execution_count": null,
      "outputs": []
    },
    {
      "cell_type": "code",
      "source": [
        "client = weaviate.Client(\n",
        "    url = \"https://cohere-demo.weaviate.network/\",\n",
        "    auth_client_secret = auth_config,\n",
        "    additional_headers= {\n",
        "        \"X-Cohere-Api-Key\": \"Cohere_API_key\"}\n",
        ")\n",
        "\n",
        "client.is_ready()"
      ],
      "metadata": {
        "colab": {
          "base_uri": "https://localhost:8080/"
        },
        "id": "-XnXgKI07Xha",
        "outputId": "bd588e71-4a74-4edd-fd94-cb91c0a0b5e3"
      },
      "execution_count": null,
      "outputs": [
        {
          "output_type": "execute_result",
          "data": {
            "text/plain": [
              "True"
            ]
          },
          "metadata": {},
          "execution_count": 7
        }
      ]
    },
    {
      "cell_type": "markdown",
      "source": [
        "## Part-1: Vector Database for Semantic Search"
      ],
      "metadata": {
        "id": "kVQS4dTc97QH"
      }
    },
    {
      "cell_type": "code",
      "source": [
        "def dense_retrieval(\n",
        "    query,\n",
        "    results_lang= 'en',\n",
        "    properties = [\"text\", \"title\", \"url\", \"views\", \"lang\",\n",
        "                  \"_additional {distance}\"],\n",
        "    num_results= 5):\n",
        "\n",
        "  nearText = {\"concepts\": [query]}\n",
        "\n",
        "  # To filter by language\n",
        "  where_filter = {\n",
        "      \"path\": [\"lang\"],\n",
        "      \"operator\": \"Equal\",\n",
        "      \"valueString\": results_lang\n",
        "  }\n",
        "\n",
        "  response = (\n",
        "      client.query\n",
        "      .get(\"Articles\", properties)\n",
        "      .with_near_text(nearText)\n",
        "      .with_where(where_filter)\n",
        "      .with_limit(num_results)\n",
        "      .do()\n",
        "  )\n",
        "\n",
        "  result = response['data']['Get']['Articles']\n",
        "\n",
        "  return result"
      ],
      "metadata": {
        "id": "nv9J8M4G-A2v"
      },
      "execution_count": null,
      "outputs": []
    },
    {
      "cell_type": "markdown",
      "source": [
        "Here, we use 'nearText' as variable for the query to find the response to the real query \"What is the capital of Canada?\""
      ],
      "metadata": {
        "id": "0HG9YAUD_RvY"
      }
    },
    {
      "cell_type": "code",
      "source": [
        "import utils\n",
        "# from utils import print_result\n",
        "def print_result(result):\n",
        "  # Print results with colorful formatting\n",
        "  for i, item in enumerate(result):\n",
        "    print(f'item{i}')\n",
        "    for key in item.keys():\n",
        "      print(f\"{key}:{item.get(key)}\")\n",
        "      print()\n",
        "    print()"
      ],
      "metadata": {
        "id": "HnXNHZfNB4iE"
      },
      "execution_count": null,
      "outputs": []
    },
    {
      "cell_type": "markdown",
      "source": [
        "### Query-1 (Basic Query)"
      ],
      "metadata": {
        "id": "5VvmF9hj7dnJ"
      }
    },
    {
      "cell_type": "code",
      "source": [
        "query = \"Who wrote Hamlet?\"\n",
        "dense_retrieval_res = dense_retrieval(query)\n",
        "print_result(dense_retrieval_res)"
      ],
      "metadata": {
        "id": "jUt1mET6_t5X",
        "colab": {
          "base_uri": "https://localhost:8080/"
        },
        "outputId": "8ee59841-121e-4ada-b770-9e06f56b1c0f"
      },
      "execution_count": null,
      "outputs": [
        {
          "output_type": "stream",
          "name": "stdout",
          "text": [
            "item0\n",
            "_additional:{'distance': -154.75647}\n",
            "\n",
            "lang:en\n",
            "\n",
            "text:There are many works that have been pointed to as possible sources for Shakespeare's play—from ancient Greek tragedies to Elizabethan plays. The editors of the Arden Shakespeare question the idea of \"source hunting\", pointing out that it presupposes that authors always require ideas from other works for their own, and suggests that no author can have an original idea or be an originator. When Shakespeare wrote there were many stories about sons avenging the murder of their fathers, and many about clever avenging sons pretending to be foolish in order to outsmart their foes. This would include the story of the ancient Roman, Lucius Junius Brutus, which Shakespeare apparently knew, as well as the story of Amleth, which was preserved in Latin by 13th-century chronicler Saxo Grammaticus in his \"Gesta Danorum\", and printed in Paris in 1514. The Amleth story was subsequently adapted and then published in French in 1570 by the 16th-century scholar François de Belleforest. It has a number of plot elements and major characters in common with Shakespeare's \"Hamlet\", and lacks others that are found in Shakespeare. Belleforest's story was first published in English in 1608, after \"Hamlet\" had been written, though it's possible that Shakespeare had encountered it in the French-language version.\n",
            "\n",
            "title:Hamlet\n",
            "\n",
            "url:https://en.wikipedia.org/wiki?curid=13554\n",
            "\n",
            "views:3000\n",
            "\n",
            "\n",
            "item1\n",
            "_additional:{'distance': -154.57204}\n",
            "\n",
            "lang:en\n",
            "\n",
            "text:English poet John Milton was an early admirer of Shakespeare and took evident inspiration from his work. As John Kerrigan discusses, Milton originally considered writing his epic poem \"Paradise Lost\" (1667) as a tragedy. While Milton did not ultimately go that route, the poem still shows distinct echoes of Shakespearean revenge tragedy, and of \"Hamlet\" in particular. As scholar Christopher N. Warren argues, \"Paradise Lost\"s Satan \"undergoes a transformation in the poem from a Hamlet-like avenger into a Claudius-like usurper,\" a plot device that supports Milton's larger Republican internationalist project. The poem also reworks theatrical language from \"Hamlet\", especially around the idea of \"putting on\" certain dispositions, as when Hamlet puts on \"an antic disposition,\" similarly to the Son in \"Paradise Lost\" who \"can put on / [God's] terrors.\"\n",
            "\n",
            "title:Hamlet\n",
            "\n",
            "url:https://en.wikipedia.org/wiki?curid=13554\n",
            "\n",
            "views:3000\n",
            "\n",
            "\n",
            "item2\n",
            "_additional:{'distance': -154.2847}\n",
            "\n",
            "lang:en\n",
            "\n",
            "text:The Tragedy of Hamlet, Prince of Denmark, often shortened to Hamlet (), is a tragedy written by William Shakespeare sometime between 1599 and 1601. It is Shakespeare's longest play, with 29,551 words. Set in Denmark, the play depicts Prince Hamlet and his attempts to exact revenge against his uncle, Claudius, who has murdered Hamlet's father in order to seize his throne and marry Hamlet's mother.\n",
            "\n",
            "title:Hamlet\n",
            "\n",
            "url:https://en.wikipedia.org/wiki?curid=13554\n",
            "\n",
            "views:3000\n",
            "\n",
            "\n",
            "item3\n",
            "_additional:{'distance': -153.55719}\n",
            "\n",
            "lang:en\n",
            "\n",
            "text:In 1598, Francis Meres published his \"Palladis Tamia\", a survey of English literature from Chaucer to its present day, within which twelve of Shakespeare's plays are named. \"Hamlet\" is not among them, suggesting that it had not yet been written. As \"Hamlet\" was very popular, Bernard Lott, the series editor of \"New Swan\", believes it \"unlikely that he [Meres] would have overlooked ... so significant a piece\".\n",
            "\n",
            "title:Hamlet\n",
            "\n",
            "url:https://en.wikipedia.org/wiki?curid=13554\n",
            "\n",
            "views:3000\n",
            "\n",
            "\n",
            "item4\n",
            "_additional:{'distance': -153.44127}\n",
            "\n",
            "lang:en\n",
            "\n",
            "text:Shakespeare almost certainly wrote the role of Hamlet for Richard Burbage. He was the chief tragedian of the Lord Chamberlain's Men, with a capacious memory for lines and a wide emotional range. Judging by the number of reprints, \"Hamlet\" appears to have been Shakespeare's fourth most popular play during his lifetime—only \"Henry IV Part 1\", \"Richard III\" and \"Pericles\" eclipsed it. Shakespeare provides no clear indication of when his play is set; however, as Elizabethan actors performed at the Globe in contemporary dress on minimal sets, this would not have affected the staging.\n",
            "\n",
            "title:Hamlet\n",
            "\n",
            "url:https://en.wikipedia.org/wiki?curid=13554\n",
            "\n",
            "views:3000\n",
            "\n",
            "\n"
          ]
        }
      ]
    },
    {
      "cell_type": "markdown",
      "source": [
        "### Query-2 (Medium Query)"
      ],
      "metadata": {
        "id": "otUFxzJA7giH"
      }
    },
    {
      "cell_type": "code",
      "source": [
        "query2 = \"What is the capital of Canada?\"\n",
        "dense_retrieval_res = dense_retrieval(query2)\n",
        "print_result(dense_retrieval_res)"
      ],
      "metadata": {
        "colab": {
          "base_uri": "https://localhost:8080/"
        },
        "id": "c5q3x7zO7Nae",
        "outputId": "4508d5a7-57b9-4c71-9152-4ce16e370430"
      },
      "execution_count": null,
      "outputs": [
        {
          "output_type": "stream",
          "name": "stdout",
          "text": [
            "item0\n",
            "_additional:{'distance': -150.8129}\n",
            "\n",
            "lang:en\n",
            "\n",
            "text:The governor general of the province had designated Kingston as the capital in 1841. However, the major population centres of Toronto and Montreal, as well as the former capital of Lower Canada, Quebec City, all had legislators dissatisfied with Kingston. Anglophone merchants in Quebec were the main group supportive of the Kingston arrangement. In 1842, a vote rejected Kingston as the capital, and study of potential candidates included the then-named Bytown, but that option proved less popular than Toronto or Montreal. In 1843, a report of the Executive Council recommended Montreal as the capital as a more fortifiable location and commercial centre, however, the Governor General refused to execute a move without a parliamentary vote. In 1844, the Queen's acceptance of a parliamentary vote moved the capital to Montreal.\n",
            "\n",
            "title:Ottawa\n",
            "\n",
            "url:https://en.wikipedia.org/wiki?curid=22219\n",
            "\n",
            "views:2000\n",
            "\n",
            "\n",
            "item1\n",
            "_additional:{'distance': -150.29314}\n",
            "\n",
            "lang:en\n",
            "\n",
            "text:For brief periods, Toronto was twice the capital of the united Province of Canada: first from 1849 to 1852, following unrest in Montreal, and later 1856–1858. After this date, Quebec was designated as the capital until 1866 (one year before Canadian Confederation). Since then, the capital of Canada has remained Ottawa, Ontario.\n",
            "\n",
            "title:Toronto\n",
            "\n",
            "url:https://en.wikipedia.org/wiki?curid=64646\n",
            "\n",
            "views:3000\n",
            "\n",
            "\n",
            "item2\n",
            "_additional:{'distance': -150.03601}\n",
            "\n",
            "lang:en\n",
            "\n",
            "text:Selection of Ottawa as the capital of Canada predates the Confederation of Canada. The selection was contentious and not straightforward, with the parliament of the United Province of Canada holding more than 200 votes over several decades to attempt to settle on a legislative solution to the location of the capital.\n",
            "\n",
            "title:Ottawa\n",
            "\n",
            "url:https://en.wikipedia.org/wiki?curid=22219\n",
            "\n",
            "views:2000\n",
            "\n",
            "\n",
            "item3\n",
            "_additional:{'distance': -149.92947}\n",
            "\n",
            "lang:en\n",
            "\n",
            "text:Until the late 18th century Québec was the most populous city in present-day Canada. As of the census of 1790, Montreal surpassed it with 18,000 inhabitants, but Quebec (pop. 14,000) remained the administrative capital of New France. It was then made the capital of Lower Canada by the Constitutional Act of 1791. From 1841 to 1867, the capital of the Province of Canada rotated between Kingston, Montreal, Toronto, Ottawa and Quebec City (from 1852 to 1856 and from 1859 to 1866).\n",
            "\n",
            "title:Quebec City\n",
            "\n",
            "url:https://en.wikipedia.org/wiki?curid=100727\n",
            "\n",
            "views:2000\n",
            "\n",
            "\n",
            "item4\n",
            "_additional:{'distance': -149.7189}\n",
            "\n",
            "lang:en\n",
            "\n",
            "text:The Quebec Conference on Canadian Confederation was held in the city in 1864. In 1867, Queen Victoria chose Ottawa as the definite capital of the Dominion of Canada, while Quebec City was confirmed as the capital of the newly created province of Quebec.\n",
            "\n",
            "title:Quebec City\n",
            "\n",
            "url:https://en.wikipedia.org/wiki?curid=100727\n",
            "\n",
            "views:2000\n",
            "\n",
            "\n"
          ]
        }
      ]
    },
    {
      "cell_type": "markdown",
      "source": [
        "We can view above different wikipedia page that gives the answer for our query."
      ],
      "metadata": {
        "id": "RRWO8qm878Pq"
      }
    },
    {
      "cell_type": "markdown",
      "source": [
        "### Comparing Dense Retrieval with keyword search"
      ],
      "metadata": {
        "id": "ltCNmNm08BMp"
      }
    },
    {
      "cell_type": "code",
      "source": [
        "# function defining keyword search\n",
        "def keyword_search(query, client, results_lang = 'en',\n",
        "                   properties= [\"title\", \"url\", \"text\"], num_results = 3):\n",
        "  where_filter = {\n",
        "      \"path\": [\"lang\"],\n",
        "      \"operator\": \"Equal\",\n",
        "      \"valueString\": results_lang\n",
        "  }\n",
        "\n",
        "  response = (\n",
        "      client.query.get(\"Articles\", properties)\n",
        "      .with_bm25(query = query)\n",
        "      .with_where(where_filter)\n",
        "      .with_limit(num_results)\n",
        "      .do()\n",
        "  )\n",
        "\n",
        "  result = response['data']['Get']['Articles']\n",
        "  return result"
      ],
      "metadata": {
        "id": "CSWY4pRz9576"
      },
      "execution_count": null,
      "outputs": []
    },
    {
      "cell_type": "code",
      "source": [
        "query = \"What is the capital of Canada?\"\n",
        "keyword_search_res = keyword_search(query, client)\n",
        "print_result(keyword_search_res)"
      ],
      "metadata": {
        "colab": {
          "base_uri": "https://localhost:8080/"
        },
        "id": "paDGmQ2R-r1W",
        "outputId": "e7d97051-3c6f-44f4-e2a3-bf839bda25f7"
      },
      "execution_count": null,
      "outputs": [
        {
          "output_type": "stream",
          "name": "stdout",
          "text": [
            "item0\n",
            "text:In his 1990 book, \"Continental Divide: the Values and Institutions of the United States and Canada,\" Seymour Martin Lipset argues that the presence of the monarchy in Canada helps distinguish Canadian identity from American identity. Since at least the 1930s, supporters of the Crown have held the opinion that the Canadian monarch is also one of the rare unified elements of Canadian society, focusing both \"the historic consciousness of the nation\" and various forms of patriotism and national love \"[on] the point around which coheres the nation's sense of a continuing personality\". Former Governor General Vincent Massey articulated in 1967 that the monarchy \"is part of ourselves. It is linked in a very special way with our national life. It stands for qualities and institutions which mean Canada to every one of us and which for all our differences and all our variety have kept Canada Canadian.\" But, according to Arthur Bousfield and Gary Toffoli, Canadians were, through the late 1960s to the 2000s, encouraged by the federal government to \"neglect, ignore, forget, reject, debase, suppress, even hate, and certainly treat as foreign what their parents and grandparents, whether spiritual or blood, regarded as the basis of Canadian nationhood, autonomy, and history\", including the monarchy. Former Governor General Roland Michener said in 1970 that anti-monarchists claimed the Canadian Crown is foreign and incompatible with Canada's multicultural society, which the government promoted as a Canadian identifier, and Lawrence Martin called in 2007 for Canada to become a republic in order to \"re-brand the nation\". However, Michener also stated, \"[the monarchy] is our own by inheritance and choice, and contributes much to our distinctive Canadian identity and our chances of independent survival amongst the republics of North and South America.\" Journalist Christina Blizzard emphasized in 2009 that the monarchy \"made [Canada] a haven of peace and justice for immigrants from around the world\", while Michael Valpy contended in 2009 that the Crown's nature permitted non-conformity amongst its subjects, thereby opening the door to multiculturalism and pluralism.\n",
            "\n",
            "title:Monarchy of Canada\n",
            "\n",
            "url:https://en.wikipedia.org/wiki?curid=56504\n",
            "\n",
            "\n",
            "item1\n",
            "text:North America outside the zone of Spanish settlement was a contested area in the 17th century. Spain had founded small settlements in Florida and Georgia but nowhere near the size of those in New Spain or the Caribbean islands. France, The Netherlands, and Great Britain held several colonies in North America and the West Indies from the 17th century, 100 years after the Spanish and Portuguese established permanent colonies. The British colonies in North America were founded between 1607 (Virginia) and 1733 (Georgia). The Dutch explored the east coast of North America and began founding settlements in what they called New Netherland (now New York State.). France colonized what is now Eastern Canada, founding Quebec City in 1608. France's loss in the Seven Years' War resulted in the transfer of New France to Great Britain. The Thirteen Colonies, in lower British North America, rebelled against British rule in 1775, largely due to the taxation that Great Britain was imposing on the colonies. The British colonies in Canada remained loyal to the crown, and a provisional government formed by the Thirteen Colonies proclaimed their independence on July 4, 1776 and subsequently became the original 13 United States of America. With the 1783 Treaty of Paris ending the American Revolutionary War, Britain recognised the former Thirteen Colonies' independence.\n",
            "\n",
            "title:Early modern period\n",
            "\n",
            "url:https://en.wikipedia.org/wiki?curid=1291656\n",
            "\n",
            "\n",
            "item2\n",
            "text:By the Second World War, the Red Ensign was viewed as Canada's \"de facto\" national flag. A joint committee of the Senate and House of Commons was appointed on November 8, 1945, to recommend a national flag to officially adopt. It received 2,409 designs from the public and was addressed by the director of the Historical Section of the Canadian Army, Fortescue Duguid, who pointed out that red and white were Canada's official colours and there was already an emblem representing the country: three joined maple leaves seen on the escutcheon of the Canadian coat of arms. By May 9 the following year, the committee reported back with a recommendation \"that the national flag of Canada should be the Canadian red ensign with a maple leaf in autumn golden colours in a bordered background of white\". The Legislative Assembly of Quebec had urged the committee to not include any of what it deemed as \"foreign symbols\", including the Union Flag, and Mackenzie King, then still prime minister, declined to act on the report; fearing it may lead to political instability. As a result, the Union Flag was kept as a national flag, and the order to fly the Canadian Red Ensign at government buildings was maintained.\n",
            "\n",
            "title:Flag of Canada\n",
            "\n",
            "url:https://en.wikipedia.org/wiki?curid=97066\n",
            "\n",
            "\n"
          ]
        }
      ]
    },
    {
      "cell_type": "markdown",
      "source": [
        "On observing the output, we can find that though all the infos are related to Canada, none of them is directly relevant to the query asked using keyword search.<br/>\n",
        "Through comparison, we can easily see that dense retrieval gives more relevant result compared to keyword search."
      ],
      "metadata": {
        "id": "7RxZ4dlE_sQU"
      }
    },
    {
      "cell_type": "markdown",
      "source": [
        "### Query-3 (Complicated Query)"
      ],
      "metadata": {
        "id": "y4zQ6-3SAKGY"
      }
    },
    {
      "cell_type": "code",
      "source": [
        "# Using Keyword search\n",
        "query3 = \"Tallest person in history?\"\n",
        "keyword_search_res = keyword_search(query3, client)\n",
        "print_result(keyword_search_res)"
      ],
      "metadata": {
        "colab": {
          "base_uri": "https://localhost:8080/"
        },
        "id": "eLdGRQHaAQTn",
        "outputId": "15794b45-33ae-4714-c3c3-0c697a49e073"
      },
      "execution_count": null,
      "outputs": [
        {
          "output_type": "stream",
          "name": "stdout",
          "text": [
            "item0\n",
            "text:The population of Japan peaked at 128,083,960 in 2008. It had decreased by 2,373,960 by December 2020. In 2011, the economy of China became the world's second largest. Japan's economy descended to third largest by nominal GDP. Despite Japan's economic difficulties, this period also saw Japanese popular culture, including video games, anime, and manga, expanding worldwide, especially among young people. In March 2011, the Tokyo Skytree became the tallest tower in the world at , displacing the Canton Tower. It is the second tallest structure in the world after the Burj Khalifa ().\n",
            "\n",
            "title:History of Japan\n",
            "\n",
            "url:https://en.wikipedia.org/wiki?curid=25890428\n",
            "\n",
            "\n",
            "item1\n",
            "text:Alpinism author Jon Krakauer (1997) wrote in \"Into Thin Air\" that it would be a bigger challenge to climb the second-highest peak of each continent, known as the Seven Second Summits – a feat that was not accomplished until January 2013. This discussion had previously been published in an article titled \"The Second Seven Summits\" in Rock & Ice Magazine (#77) authored by the mountaineer and Seven Summits completer David Keaton. This is especially true for Asia, as K2 (8,611 m) demands greater technical climbing skills than Everest (8,848 m), while altitude-related factors such as the thinness of the atmosphere, high winds and low temperatures remain much the same. Some of those completing the seven ascents are aware of the magnitude of the challenge. In 2000, in a foreword to Steve Bell et al., \"Seven Summits\", Morrow opined \"[t]he only reason Reinhold [Messner] wasn’t the first person to complete the seven was that he was too busy gambolling up the 14 tallest mountains in the world.\"\n",
            "\n",
            "title:Seven Summits\n",
            "\n",
            "url:https://en.wikipedia.org/wiki?curid=220861\n",
            "\n",
            "\n",
            "item2\n",
            "text:Hamad was able to focus on turning Qatar from a small desert backwater into a major world power by continuing to exploit the country’s vast oil fields and discovering and tapping the world’s third largest gas reserves. By 2010 liquefied natural gas production had reached 77 million tons, making Qatar the richest country in the world. With fewer than two million inhabitants, the average income in the country shot to a staggering $86,440 per year per person. Qatar expert Olivier Da Lage said: \"When he came to power in 1995, Sheikh Hamad had a goal to place Qatar on the world map by exploiting the gas resources which his father did not develop for fear it would change the emirate's society. Eighteen years on, he has finished the job – Qatar has acquired the financial clout to command respect from neighboring countries and Western governments alike\".In 2005, under the direction of Hamad and the former prime minister of Qatar Sheikh Hamad bin Jassim bin Jaber Al Thani, the Qatar Investment Authority was established, a sovereign wealth fund to manage the country's oil and natural gas surpluses. The Qatar Investment Authority and its subsidiaries have acquired many businesses abroad, including London's iconic department store Harrods from entrepreneur Mohammed Al-Fayed, Paris-based department store Printemps, French football club Paris Saint-Germain F.C., a former 10% stake in Porsche, a 75% stake in film studio Miramax Films which they acquired from Disney, a 2% stake in media conglomerate and Universal Music Group parent company Vivendi, a $100 million USD investment in Chernin Group – whose founder Peter Chernin was COO of News Corp and President of Fox, a 1% stake in luxury goods manufacturer Louis Vuitton Moët Hennessy, a 6% stake in Credit Suisse, a 12.6% stake in Barclays and several other major companies. They also backed Glencore's $31 billion takeover bid for Xstrata. Qatar is the largest property owner in London with their holdings including the United Kingdom's tallest building The Shard, the London Olympic Village and the InterContinental London Park Lane hotel. They also own several hotels in Cannes including the Majestic Hotel, Grand Hyatt Cannes Hôtel Martinez and the Carlton Hotel, Cannes. QIA was considered to have one of the leading bids in the sales of both Anschutz Entertainment Group and Hulu. As of May 2013, it was reported the Investment Authority was in talks to purchase Neiman Marcus and Bergdorf Goodman.\n",
            "\n",
            "title:Hamad bin Khalifa Al Thani\n",
            "\n",
            "url:https://en.wikipedia.org/wiki?curid=295929\n",
            "\n",
            "\n"
          ]
        }
      ]
    },
    {
      "cell_type": "code",
      "source": [
        "# Using dense retrieval\n",
        "query3 = \"Tallest person in history?\"\n",
        "dense_retrieval_res = dense_retrieval(query3)\n",
        "print_result(dense_retrieval_res)"
      ],
      "metadata": {
        "colab": {
          "base_uri": "https://localhost:8080/"
        },
        "id": "JD9nHbizBNoo",
        "outputId": "ae87e29b-349b-47e9-9022-e4904f1445e2"
      },
      "execution_count": null,
      "outputs": [
        {
          "output_type": "stream",
          "name": "stdout",
          "text": [
            "item0\n",
            "_additional:{'distance': -147.69855}\n",
            "\n",
            "lang:en\n",
            "\n",
            "text:Robert Pershing Wadlow (February 22, 1918 July 15, 1940), also known as the Alton Giant and the Giant of Illinois, was a man who was the tallest person in recorded history for whom there is irrefutable evidence. He was born and raised in Alton, Illinois, a small city near St. Louis, Missouri.\n",
            "\n",
            "title:Robert Wadlow\n",
            "\n",
            "url:https://en.wikipedia.org/wiki?curid=359117\n",
            "\n",
            "views:3000\n",
            "\n",
            "\n",
            "item1\n",
            "_additional:{'distance': -147.39816}\n",
            "\n",
            "lang:en\n",
            "\n",
            "text:Bol came from a family of extraordinarily tall men and women. He said: \"My mother was , my father , and my sister is . And my great-grandfather was even taller—.\" His ethnic group, the Dinka, and the Nilotic people of which they are a part, are among the tallest populations in the world. Bol's hometown, Turalei, is the origin of other exceptionally tall people, including basketball player Ring Ayuel. \"I was born in a village, where you cannot measure yourself,\" Bol reflected. \"I learned I was 7 foot 7 in 1979, when I was grown. I was about 18 or 19.\"\n",
            "\n",
            "title:Manute Bol\n",
            "\n",
            "url:https://en.wikipedia.org/wiki?curid=283871\n",
            "\n",
            "views:2000\n",
            "\n",
            "\n",
            "item2\n",
            "_additional:{'distance': -145.6744}\n",
            "\n",
            "lang:en\n",
            "\n",
            "text:Sultan Kösen (born 10 December 1982) is a Turkish farmer who holds the Guinness World Record for tallest living male at . Of Kurdish ethnicity, he is the seventh tallest man in history.\n",
            "\n",
            "title:Sultan Kösen\n",
            "\n",
            "url:https://en.wikipedia.org/wiki?curid=8445237\n",
            "\n",
            "views:2000\n",
            "\n",
            "\n",
            "item3\n",
            "_additional:{'distance': -145.53464}\n",
            "\n",
            "lang:en\n",
            "\n",
            "text:One year before his death, Wadlow passed John Rogan as the tallest person ever. On June 27, 1940 (18 days before his death), he was measured by doctors at .\n",
            "\n",
            "title:Robert Wadlow\n",
            "\n",
            "url:https://en.wikipedia.org/wiki?curid=359117\n",
            "\n",
            "views:3000\n",
            "\n",
            "\n",
            "item4\n",
            "_additional:{'distance': -145.11696}\n",
            "\n",
            "lang:en\n",
            "\n",
            "text:Bol and Gheorghe Mureșan are the two tallest players in the history of the National Basketball Association. Official NBA publications have listed Bol at either or tall. He was measured by the Guinness Book of World Records at 7 ft 6  in tall. Complementing his great height, Bol had exceptionally long limbs (inseam ) and large hands and feet (size 16 ). His arm span, at , is (as of 2013) the longest in NBA history, and his upward reach was . He was extremely slender, limiting his offensive capability.\n",
            "\n",
            "title:Manute Bol\n",
            "\n",
            "url:https://en.wikipedia.org/wiki?curid=283871\n",
            "\n",
            "views:2000\n",
            "\n",
            "\n"
          ]
        }
      ]
    },
    {
      "cell_type": "markdown",
      "source": [
        "Again, with comparison, we can see that dense retrieval gives better results."
      ],
      "metadata": {
        "id": "0-PEtz1LBhc7"
      }
    },
    {
      "cell_type": "markdown",
      "source": [
        "### Dense Retrieval in multilingual model\n",
        "Dense Retrieval is also good in finding answers to queries in different language."
      ],
      "metadata": {
        "id": "1iNGQYVMByNb"
      }
    },
    {
      "cell_type": "code",
      "source": [
        "# Query in arabic lang.\n",
        "query4 = \"أطول رجل في التاريخ\"\n",
        "dense_retrieval_res = dense_retrieval(query4)\n",
        "print_result(dense_retrieval_res)"
      ],
      "metadata": {
        "colab": {
          "base_uri": "https://localhost:8080/"
        },
        "id": "qinefULiBmK8",
        "outputId": "9110f982-72b6-481d-bfff-ff769b6ecf22"
      },
      "execution_count": null,
      "outputs": [
        {
          "output_type": "stream",
          "name": "stdout",
          "text": [
            "item0\n",
            "_additional:{'distance': -147.40509}\n",
            "\n",
            "lang:en\n",
            "\n",
            "text:Robert Pershing Wadlow (February 22, 1918 July 15, 1940), also known as the Alton Giant and the Giant of Illinois, was a man who was the tallest person in recorded history for whom there is irrefutable evidence. He was born and raised in Alton, Illinois, a small city near St. Louis, Missouri.\n",
            "\n",
            "title:Robert Wadlow\n",
            "\n",
            "url:https://en.wikipedia.org/wiki?curid=359117\n",
            "\n",
            "views:3000\n",
            "\n",
            "\n",
            "item1\n",
            "_additional:{'distance': -147.05692}\n",
            "\n",
            "lang:en\n",
            "\n",
            "text:Kösen turned 40 years old on 10 December 2022. He celebrated his birthday a few days early by visiting the Ripley's Believe It or Not! museum in Orlando, Florida, USA and posing next to a life-sized statue of Robert Wadlow, the tallest man ever at 272 cm (8 ft 11.1 in).\n",
            "\n",
            "title:Sultan Kösen\n",
            "\n",
            "url:https://en.wikipedia.org/wiki?curid=8445237\n",
            "\n",
            "views:2000\n",
            "\n",
            "\n",
            "item2\n",
            "_additional:{'distance': -146.87894}\n",
            "\n",
            "lang:en\n",
            "\n",
            "text:Bol and Gheorghe Mureșan are the two tallest players in the history of the National Basketball Association. Official NBA publications have listed Bol at either or tall. He was measured by the Guinness Book of World Records at 7 ft 6  in tall. Complementing his great height, Bol had exceptionally long limbs (inseam ) and large hands and feet (size 16 ). His arm span, at , is (as of 2013) the longest in NBA history, and his upward reach was . He was extremely slender, limiting his offensive capability.\n",
            "\n",
            "title:Manute Bol\n",
            "\n",
            "url:https://en.wikipedia.org/wiki?curid=283871\n",
            "\n",
            "views:2000\n",
            "\n",
            "\n",
            "item3\n",
            "_additional:{'distance': -146.58446}\n",
            "\n",
            "lang:en\n",
            "\n",
            "text:Sultan Kösen (born 10 December 1982) is a Turkish farmer who holds the Guinness World Record for tallest living male at . Of Kurdish ethnicity, he is the seventh tallest man in history.\n",
            "\n",
            "title:Sultan Kösen\n",
            "\n",
            "url:https://en.wikipedia.org/wiki?curid=8445237\n",
            "\n",
            "views:2000\n",
            "\n",
            "\n",
            "item4\n",
            "_additional:{'distance': -146.51013}\n",
            "\n",
            "lang:en\n",
            "\n",
            "text:Jonah Adam (Cardeli) Falcon (born July 29, 1970) is an American actor and television presenter. He came to international attention in 1999 because of his claim that he has the largest penis in the world, which he claims is long when erect; Falcon has not authorized or permitted independent verification of this figure.\n",
            "\n",
            "title:Jonah Falcon\n",
            "\n",
            "url:https://en.wikipedia.org/wiki?curid=22044645\n",
            "\n",
            "views:2000\n",
            "\n",
            "\n"
          ]
        }
      ]
    },
    {
      "cell_type": "markdown",
      "source": [
        "### Exploration using dense retrieval"
      ],
      "metadata": {
        "id": "LZtdcVdmCmdR"
      }
    },
    {
      "cell_type": "code",
      "source": [
        "query5 = \"film about a time travel paradox\"\n",
        "dense_retrieval_res = dense_retrieval(query5)\n",
        "print_result(dense_retrieval_res)"
      ],
      "metadata": {
        "colab": {
          "base_uri": "https://localhost:8080/"
        },
        "id": "7lOvVcIUCpns",
        "outputId": "baf82ebc-0578-4422-cf4b-96b5113d6fd2"
      },
      "execution_count": null,
      "outputs": [
        {
          "output_type": "stream",
          "name": "stdout",
          "text": [
            "item0\n",
            "_additional:{'distance': -151.42374}\n",
            "\n",
            "lang:en\n",
            "\n",
            "text:Although the production contracted out various effect houses to try to make the time travelling effects feel like more of a spectacle, they found the resulting work \"just completely wrong\" tonally and instead focused on a more low-key approach. Curtis has opined \"that in the end it turns out to be a kind of anti–time travel time travel movie. It uses all the time travel stuff but without it feeling like it's a science fiction thing particularly or without it feeling that time travel can actually solve your life.\"\n",
            "\n",
            "title:About Time (2013 film)\n",
            "\n",
            "url:https://en.wikipedia.org/wiki?curid=38094431\n",
            "\n",
            "views:2000\n",
            "\n",
            "\n",
            "item1\n",
            "_additional:{'distance': -150.89359}\n",
            "\n",
            "lang:en\n",
            "\n",
            "text:The film was directed by Wells's great-grandson Simon Wells, with an even more revised plot that incorporated the ideas of paradoxes and changing the past. The place is changed from Richmond, Surrey, to downtown New York City, where the Time Traveller moves forward in time to find answers to his questions on 'Practical Application of Time Travel;' first in 2030 New York, to witness an orbital lunar catastrophe in 2037, before moving on to 802,701 for the main plot. He later briefly finds himself in 635,427,810 with toxic clouds and a world laid waste (presumably by the Morlocks) with devastation and Morlock artifacts stretching out to the horizon.\n",
            "\n",
            "title:The Time Machine\n",
            "\n",
            "url:https://en.wikipedia.org/wiki?curid=29834\n",
            "\n",
            "views:2000\n",
            "\n",
            "\n",
            "item2\n",
            "_additional:{'distance': -150.36087}\n",
            "\n",
            "lang:en\n",
            "\n",
            "text:Leslie Felperin of \"Variety\" called the film \"reassuringly bland\" and says there is sense of déjà vu especially for anyone who has seen \"The Time Traveler's Wife\", also co-starring McAdams. Unlike that film, she has no knowledge of his powers in \"About Time\", resulting in a \"fundamental lack of honesty in their relationship\". Felperin noted British reverse snobbery would put many off this and other Curtis films, but that this would be less of a problem among American Anglophiles and those willing to suspend disbelief, taking the characters as British \"versions of Woody Allen's Manhattanites (but with less angst)\". Felperin praised the chemistry of the leading couple \"that keeps the film aloft\" and the supporting cast, while also criticising the stock characters as being too familiar.\n",
            "\n",
            "title:About Time (2013 film)\n",
            "\n",
            "url:https://en.wikipedia.org/wiki?curid=38094431\n",
            "\n",
            "views:2000\n",
            "\n",
            "\n",
            "item3\n",
            "_additional:{'distance': -149.95738}\n",
            "\n",
            "lang:en\n",
            "\n",
            "text:The philosopher Kelley L. Ross argues in \"Time Travel Paradoxes\" that in a scenario involving a physical object whose world-line or history forms a closed loop in time there can be a violation of the second law of thermodynamics. Ross uses the film \"Somewhere in Time\" as an example of such an ontological paradox, where a watch is given to a person, and 60 years later the same watch is brought back in time and given to the same character. Ross states that entropy of the watch will increase, and the watch carried back in time will be more worn with each repetition of its history. The second law of thermodynamics is understood by modern physicists to be a statistical law, so decreasing entropy and non-increasing entropy are not impossible, just improbable. Additionally, entropy statistically increases in systems which are isolated, so non-isolated systems, such as an object, that interact with the outside world, can become less worn and decrease in entropy, and it's possible for an object whose world-line forms a closed loop to be always in the same condition in the same point of its history.\n",
            "\n",
            "title:Time travel\n",
            "\n",
            "url:https://en.wikipedia.org/wiki?curid=31591\n",
            "\n",
            "views:2000\n",
            "\n",
            "\n",
            "item4\n",
            "_additional:{'distance': -149.87299}\n",
            "\n",
            "lang:en\n",
            "\n",
            "text:The science-fiction aspect of the film revolves around the ability to reverse the entropy of things and people, resulting in time reversibility. While the film does refer to real concepts from physics, among them annihilation, the second law of thermodynamics, Maxwell's demon, the grandfather paradox, and Feynman and Wheeler's Absorber Theory, Nolan stated in the film's press notes that \"we're not going to make any case for this being scientifically accurate\". Commenting on the scientific aspects of writing the script, he stated: \"I think the scientific method is the best tool we have for analysing and understanding the world around us ... I've been very inspired by working with great scientists like Kip Thorne, who I worked with on \"Interstellar\", who also helped me out with some early analysis of the ideas I wanted to explore to do with time and quantum physics on \"Tenet\", although I promised him I wasn't going to bandy his name around as if there was some kind of scientific reality to \"Tenet\". It's a very different kettle of fish to \"Interstellar\".\"\n",
            "\n",
            "title:Tenet (film)\n",
            "\n",
            "url:https://en.wikipedia.org/wiki?curid=59770239\n",
            "\n",
            "views:3000\n",
            "\n",
            "\n"
          ]
        }
      ]
    },
    {
      "cell_type": "markdown",
      "source": [
        "## Part-2: Building Semantic Search from Scratch\n",
        "Building a vector search database"
      ],
      "metadata": {
        "id": "oqw60laoDQkq"
      }
    },
    {
      "cell_type": "code",
      "source": [
        "!pip install annoy"
      ],
      "metadata": {
        "id": "EqqGEsQWDyJq"
      },
      "execution_count": null,
      "outputs": []
    },
    {
      "cell_type": "markdown",
      "source": [
        "ANNoy is Python library to measure Approximate Nearest Neighbor & other functions."
      ],
      "metadata": {
        "id": "LiX0C-wRJdou"
      }
    },
    {
      "cell_type": "code",
      "source": [
        "# Downloading libraries\n",
        "import annoy\n",
        "from annoy import AnnoyIndex\n",
        "import numpy as np\n",
        "import pandas as pd\n",
        "import re"
      ],
      "metadata": {
        "id": "1VXEkDjnDVyR"
      },
      "execution_count": null,
      "outputs": []
    },
    {
      "cell_type": "code",
      "source": [
        "# Getting the text archive - Interstellar Wikipedia page\n",
        "text = \"\"\"\n",
        "Interstellar is a 2014 epic science fiction film co-written, directed, and produced by Christopher Nolan.\n",
        "It stars Matthew McConaughey, Anne Hathaway, Jessica Chastain, Bill Irwin, Ellen Burstyn, Matt Damon, and Michael Caine.\n",
        "Set in a dystopian future where humanity is struggling to survive, the film follows a group of astronauts who travel through a wormhole near Saturn in search of a new home for mankind.\n",
        "\n",
        "Brothers Christopher and Jonathan Nolan wrote the screenplay, which had its origins in a script Jonathan developed in 2007.\n",
        "Caltech theoretical physicist and 2017 Nobel laureate in Physics[4] Kip Thorne was an executive producer, acted as a scientific consultant, and wrote a tie-in book, The Science of Interstellar.\n",
        "Cinematographer Hoyte van Hoytema shot it on 35 mm movie film in the Panavision anamorphic format and IMAX 70 mm.\n",
        "Principal photography began in late 2013 and took place in Alberta, Iceland, and Los Angeles.\n",
        "Interstellar uses extensive practical and miniature effects and the company Double Negative created additional digital effects.\n",
        "\n",
        "Interstellar premiered on October 26, 2014, in Los Angeles.\n",
        "In the United States, it was first released on film stock, expanding to venues using digital projectors.\n",
        "The film had a worldwide gross over $677 million (and $773 million with subsequent re-releases), making it the tenth-highest grossing film of 2014.\n",
        "It received acclaim for its performances, direction, screenplay, musical score, visual effects, ambition, themes, and emotional weight.\n",
        "It has also received praise from many astronomers for its scientific accuracy and portrayal of theoretical astrophysics. Since its premiere, Interstellar gained a cult following,[5] and now is regarded by many sci-fi experts as one of the best science-fiction films of all time.\n",
        "Interstellar was nominated for five awards at the 87th Academy Awards, winning Best Visual Effects, and received numerous other accolades\"\"\""
      ],
      "metadata": {
        "id": "udDKrHiiEBQ0"
      },
      "execution_count": null,
      "outputs": []
    },
    {
      "cell_type": "markdown",
      "source": [
        "### Chunking text"
      ],
      "metadata": {
        "id": "eREy5fl5EdyT"
      }
    },
    {
      "cell_type": "code",
      "source": [
        "# Splitting into a list of sentences\n",
        "texts = text.split('.')\n",
        "\n",
        "# Cleaning up to remove empty spaces & new lines\n",
        "texts = np.array([t.strip('\\n') for t in texts])"
      ],
      "metadata": {
        "id": "IxlbQTTnETUz"
      },
      "execution_count": null,
      "outputs": []
    },
    {
      "cell_type": "code",
      "source": [
        "texts"
      ],
      "metadata": {
        "colab": {
          "base_uri": "https://localhost:8080/"
        },
        "id": "K4UAsXN2E-bf",
        "outputId": "233c4f0d-717e-4c9c-9539-5901b11e2ebd"
      },
      "execution_count": null,
      "outputs": [
        {
          "output_type": "execute_result",
          "data": {
            "text/plain": [
              "array(['Interstellar is a 2014 epic science fiction film co-written, directed, and produced by Christopher Nolan',\n",
              "       'It stars Matthew McConaughey, Anne Hathaway, Jessica Chastain, Bill Irwin, Ellen Burstyn, Matt Damon, and Michael Caine',\n",
              "       'Set in a dystopian future where humanity is struggling to survive, the film follows a group of astronauts who travel through a wormhole near Saturn in search of a new home for mankind',\n",
              "       'Brothers Christopher and Jonathan Nolan wrote the screenplay, which had its origins in a script Jonathan developed in 2007',\n",
              "       'Caltech theoretical physicist and 2017 Nobel laureate in Physics[4] Kip Thorne was an executive producer, acted as a scientific consultant, and wrote a tie-in book, The Science of Interstellar',\n",
              "       'Cinematographer Hoyte van Hoytema shot it on 35 mm movie film in the Panavision anamorphic format and IMAX 70 mm',\n",
              "       'Principal photography began in late 2013 and took place in Alberta, Iceland, and Los Angeles',\n",
              "       'Interstellar uses extensive practical and miniature effects and the company Double Negative created additional digital effects',\n",
              "       'Interstellar premiered on October 26, 2014, in Los Angeles',\n",
              "       'In the United States, it was first released on film stock, expanding to venues using digital projectors',\n",
              "       'The film had a worldwide gross over $677 million (and $773 million with subsequent re-releases), making it the tenth-highest grossing film of 2014',\n",
              "       'It received acclaim for its performances, direction, screenplay, musical score, visual effects, ambition, themes, and emotional weight',\n",
              "       'It has also received praise from many astronomers for its scientific accuracy and portrayal of theoretical astrophysics',\n",
              "       ' Since its premiere, Interstellar gained a cult following,[5] and now is regarded by many sci-fi experts as one of the best science-fiction films of all time',\n",
              "       'Interstellar was nominated for five awards at the 87th Academy Awards, winning Best Visual Effects, and received numerous other accolades'],\n",
              "      dtype='<U192')"
            ]
          },
          "metadata": {},
          "execution_count": 37
        }
      ]
    },
    {
      "cell_type": "markdown",
      "source": [
        "With texts split into sentences, we can find many individual sentences that doesn't represent the context clearly. If we embed such sentences into the model, it'll just complicate the model as it won't know what we're trying to say. We can solve this issue by attaching title of the Wikipedia page with each sentence."
      ],
      "metadata": {
        "id": "i8MzDTb1Fs3W"
      }
    },
    {
      "cell_type": "code",
      "source": [
        "title = 'Interstellar (film)'\n",
        "\n",
        "texts = np.array([f\"{title} {t}\" for t in texts])\n",
        "print(texts)"
      ],
      "metadata": {
        "colab": {
          "base_uri": "https://localhost:8080/"
        },
        "id": "NuiJL0viGRwi",
        "outputId": "3f183e6e-7cb3-4fe2-eb39-8485d4ec13f4"
      },
      "execution_count": null,
      "outputs": [
        {
          "output_type": "stream",
          "name": "stdout",
          "text": [
            "['Interstellar (film) Interstellar (film) Interstellar is a 2014 epic science fiction film co-written, directed, and produced by Christopher Nolan'\n",
            " 'Interstellar (film) Interstellar (film) It stars Matthew McConaughey, Anne Hathaway, Jessica Chastain, Bill Irwin, Ellen Burstyn, Matt Damon, and Michael Caine'\n",
            " 'Interstellar (film) Interstellar (film) Set in a dystopian future where humanity is struggling to survive, the film follows a group of astronauts who travel through a wormhole near Saturn in search of a new home for mankind'\n",
            " 'Interstellar (film) Interstellar (film) Brothers Christopher and Jonathan Nolan wrote the screenplay, which had its origins in a script Jonathan developed in 2007'\n",
            " 'Interstellar (film) Interstellar (film) Caltech theoretical physicist and 2017 Nobel laureate in Physics[4] Kip Thorne was an executive producer, acted as a scientific consultant, and wrote a tie-in book, The Science of Interstellar'\n",
            " 'Interstellar (film) Interstellar (film) Cinematographer Hoyte van Hoytema shot it on 35 mm movie film in the Panavision anamorphic format and IMAX 70 mm'\n",
            " 'Interstellar (film) Interstellar (film) Principal photography began in late 2013 and took place in Alberta, Iceland, and Los Angeles'\n",
            " 'Interstellar (film) Interstellar (film) Interstellar uses extensive practical and miniature effects and the company Double Negative created additional digital effects'\n",
            " 'Interstellar (film) Interstellar (film) Interstellar premiered on October 26, 2014, in Los Angeles'\n",
            " 'Interstellar (film) Interstellar (film) In the United States, it was first released on film stock, expanding to venues using digital projectors'\n",
            " 'Interstellar (film) Interstellar (film) The film had a worldwide gross over $677 million (and $773 million with subsequent re-releases), making it the tenth-highest grossing film of 2014'\n",
            " 'Interstellar (film) Interstellar (film) It received acclaim for its performances, direction, screenplay, musical score, visual effects, ambition, themes, and emotional weight'\n",
            " 'Interstellar (film) Interstellar (film) It has also received praise from many astronomers for its scientific accuracy and portrayal of theoretical astrophysics'\n",
            " 'Interstellar (film) Interstellar (film)  Since its premiere, Interstellar gained a cult following,[5] and now is regarded by many sci-fi experts as one of the best science-fiction films of all time'\n",
            " 'Interstellar (film) Interstellar (film) Interstellar was nominated for five awards at the 87th Academy Awards, winning Best Visual Effects, and received numerous other accolades']\n"
          ]
        }
      ]
    },
    {
      "cell_type": "markdown",
      "source": [
        "In real life, it's more practical to split texts into paragraphs."
      ],
      "metadata": {
        "id": "E0oRt7KRFL0I"
      }
    },
    {
      "cell_type": "code",
      "source": [
        "# Splitting into a list of paragraphs\n",
        "texts = text.split('\\n\\n')\n",
        "\n",
        "# Cleaning up to remove empty spaces & new lines\n",
        "texts = np.array([t.strip('\\n') for t in texts])"
      ],
      "metadata": {
        "id": "c9r66uKcFIPb"
      },
      "execution_count": null,
      "outputs": []
    },
    {
      "cell_type": "code",
      "source": [
        "texts"
      ],
      "metadata": {
        "colab": {
          "base_uri": "https://localhost:8080/"
        },
        "id": "gwLcQWGgFUrO",
        "outputId": "eec884fa-aaa5-4ee0-da46-5f466c2d4700"
      },
      "execution_count": null,
      "outputs": [
        {
          "output_type": "execute_result",
          "data": {
            "text/plain": [
              "array(['Interstellar is a 2014 epic science fiction film co-written, directed, and produced by Christopher Nolan.\\nIt stars Matthew McConaughey, Anne Hathaway, Jessica Chastain, Bill Irwin, Ellen Burstyn, Matt Damon, and Michael Caine.\\nSet in a dystopian future where humanity is struggling to survive, the film follows a group of astronauts who travel through a wormhole near Saturn in search of a new home for mankind.',\n",
              "       'Brothers Christopher and Jonathan Nolan wrote the screenplay, which had its origins in a script Jonathan developed in 2007.\\nCaltech theoretical physicist and 2017 Nobel laureate in Physics[4] Kip Thorne was an executive producer, acted as a scientific consultant, and wrote a tie-in book, The Science of Interstellar.\\nCinematographer Hoyte van Hoytema shot it on 35 mm movie film in the Panavision anamorphic format and IMAX 70 mm.\\nPrincipal photography began in late 2013 and took place in Alberta, Iceland, and Los Angeles.\\nInterstellar uses extensive practical and miniature effects and the company Double Negative created additional digital effects.',\n",
              "       'Interstellar premiered on October 26, 2014, in Los Angeles.\\nIn the United States, it was first released on film stock, expanding to venues using digital projectors.\\nThe film had a worldwide gross over $677 million (and $773 million with subsequent re-releases), making it the tenth-highest grossing film of 2014.\\nIt received acclaim for its performances, direction, screenplay, musical score, visual effects, ambition, themes, and emotional weight.\\nIt has also received praise from many astronomers for its scientific accuracy and portrayal of theoretical astrophysics. Since its premiere, Interstellar gained a cult following,[5] and now is regarded by many sci-fi experts as one of the best science-fiction films of all time.\\nInterstellar was nominated for five awards at the 87th Academy Awards, winning Best Visual Effects, and received numerous other accolades'],\n",
              "      dtype='<U865')"
            ]
          },
          "metadata": {},
          "execution_count": 35
        }
      ]
    },
    {
      "cell_type": "markdown",
      "source": [
        "### Embedding the texts"
      ],
      "metadata": {
        "id": "IvHpn72rISyO"
      }
    },
    {
      "cell_type": "code",
      "source": [
        "# Getting the embeddings\n",
        "response = co.embed(\n",
        "    texts = texts.tolist()\n",
        ").embeddings"
      ],
      "metadata": {
        "id": "xmc7E4w8IVRl"
      },
      "execution_count": null,
      "outputs": []
    },
    {
      "cell_type": "code",
      "source": [
        "embeds = np.array(response)\n",
        "embeds.shape"
      ],
      "metadata": {
        "colab": {
          "base_uri": "https://localhost:8080/"
        },
        "id": "XVa3qSfLIfMC",
        "outputId": "1e608886-4c71-4a28-f321-f74faeaf3b3a"
      },
      "execution_count": null,
      "outputs": [
        {
          "output_type": "execute_result",
          "data": {
            "text/plain": [
              "(15, 4096)"
            ]
          },
          "metadata": {},
          "execution_count": 41
        }
      ]
    },
    {
      "cell_type": "markdown",
      "source": [
        "embeds.shape tells that there're 15 sentences and each of the sentence is given 4096 vectors, that captures its meaning & context."
      ],
      "metadata": {
        "id": "pVCZxeKDIqIu"
      }
    },
    {
      "cell_type": "markdown",
      "source": [
        "### Creating search index"
      ],
      "metadata": {
        "id": "xXy1O3C_I8CP"
      }
    },
    {
      "cell_type": "code",
      "source": [
        "search_index = AnnoyIndex(embeds.shape[1], 'angular')\n",
        "\n",
        "# Adding all the vectors to the search index\n",
        "for i in range(len(embeds)):\n",
        "  search_index.add_item(i, embeds[i])\n",
        "\n",
        "search_index.build(10) # 10 trees\n",
        "search_index.save('test.ann') # saving file"
      ],
      "metadata": {
        "colab": {
          "base_uri": "https://localhost:8080/"
        },
        "id": "EU9Ypz0dI-a5",
        "outputId": "e3c569e5-6f7d-445a-abb3-9f025d0bac78"
      },
      "execution_count": null,
      "outputs": [
        {
          "output_type": "execute_result",
          "data": {
            "text/plain": [
              "True"
            ]
          },
          "metadata": {},
          "execution_count": 42
        }
      ]
    },
    {
      "cell_type": "markdown",
      "source": [
        "After creating search index, we can send query to the model, & it'll send the nearest result based on 15 sentences."
      ],
      "metadata": {
        "id": "ZHlTjYjZJxxc"
      }
    },
    {
      "cell_type": "code",
      "source": [
        "# Basic search function\n",
        "pd.set_option('display.max_colwidth', None)\n",
        "\n",
        "def search(query):\n",
        "\n",
        "  # Getting the query's embedding\n",
        "  query_embed = co.embed(texts= [query]).embeddings\n",
        "\n",
        "  # Retrieving the nearest 3 neighbors from vector search index\n",
        "  similar_item_ids = search_index.get_nns_by_vector(query_embed[0], 3,\n",
        "                                                    include_distances= True)\n",
        "\n",
        "  # Formatting the results\n",
        "  results = pd.DataFrame(data = {'texts': texts[similar_item_ids[0]],\n",
        "                                 'distance': similar_item_ids[1]})\n",
        "\n",
        "  print(texts[similar_item_ids[0]])\n",
        "\n",
        "  return results"
      ],
      "metadata": {
        "id": "h_vfqZ0PKGiN"
      },
      "execution_count": null,
      "outputs": []
    },
    {
      "cell_type": "code",
      "source": [
        "query6 = \"How much did the film make?\"\n",
        "search(query6)"
      ],
      "metadata": {
        "colab": {
          "base_uri": "https://localhost:8080/",
          "height": 251
        },
        "id": "rU3HaKK6LKiF",
        "outputId": "3b4f8d0a-d3ed-4f66-da3d-bb1da375dc5c"
      },
      "execution_count": null,
      "outputs": [
        {
          "output_type": "stream",
          "name": "stdout",
          "text": [
            "['Interstellar (film) Interstellar (film) The film had a worldwide gross over $677 million (and $773 million with subsequent re-releases), making it the tenth-highest grossing film of 2014'\n",
            " 'Interstellar (film) Interstellar (film) Interstellar premiered on October 26, 2014, in Los Angeles'\n",
            " 'Interstellar (film) Interstellar (film) In the United States, it was first released on film stock, expanding to venues using digital projectors']\n"
          ]
        },
        {
          "output_type": "execute_result",
          "data": {
            "text/plain": [
              "                                                                                                                                                                                        texts  \\\n",
              "0  Interstellar (film) Interstellar (film) The film had a worldwide gross over $677 million (and $773 million with subsequent re-releases), making it the tenth-highest grossing film of 2014   \n",
              "1                                                                                          Interstellar (film) Interstellar (film) Interstellar premiered on October 26, 2014, in Los Angeles   \n",
              "2                                             Interstellar (film) Interstellar (film) In the United States, it was first released on film stock, expanding to venues using digital projectors   \n",
              "\n",
              "   distance  \n",
              "0  1.010105  \n",
              "1  1.154889  \n",
              "2  1.168121  "
            ],
            "text/html": [
              "\n",
              "  <div id=\"df-f5460072-2a58-4ed3-89c1-3f4aae491adb\" class=\"colab-df-container\">\n",
              "    <div>\n",
              "<style scoped>\n",
              "    .dataframe tbody tr th:only-of-type {\n",
              "        vertical-align: middle;\n",
              "    }\n",
              "\n",
              "    .dataframe tbody tr th {\n",
              "        vertical-align: top;\n",
              "    }\n",
              "\n",
              "    .dataframe thead th {\n",
              "        text-align: right;\n",
              "    }\n",
              "</style>\n",
              "<table border=\"1\" class=\"dataframe\">\n",
              "  <thead>\n",
              "    <tr style=\"text-align: right;\">\n",
              "      <th></th>\n",
              "      <th>texts</th>\n",
              "      <th>distance</th>\n",
              "    </tr>\n",
              "  </thead>\n",
              "  <tbody>\n",
              "    <tr>\n",
              "      <th>0</th>\n",
              "      <td>Interstellar (film) Interstellar (film) The film had a worldwide gross over $677 million (and $773 million with subsequent re-releases), making it the tenth-highest grossing film of 2014</td>\n",
              "      <td>1.010105</td>\n",
              "    </tr>\n",
              "    <tr>\n",
              "      <th>1</th>\n",
              "      <td>Interstellar (film) Interstellar (film) Interstellar premiered on October 26, 2014, in Los Angeles</td>\n",
              "      <td>1.154889</td>\n",
              "    </tr>\n",
              "    <tr>\n",
              "      <th>2</th>\n",
              "      <td>Interstellar (film) Interstellar (film) In the United States, it was first released on film stock, expanding to venues using digital projectors</td>\n",
              "      <td>1.168121</td>\n",
              "    </tr>\n",
              "  </tbody>\n",
              "</table>\n",
              "</div>\n",
              "    <div class=\"colab-df-buttons\">\n",
              "\n",
              "  <div class=\"colab-df-container\">\n",
              "    <button class=\"colab-df-convert\" onclick=\"convertToInteractive('df-f5460072-2a58-4ed3-89c1-3f4aae491adb')\"\n",
              "            title=\"Convert this dataframe to an interactive table.\"\n",
              "            style=\"display:none;\">\n",
              "\n",
              "  <svg xmlns=\"http://www.w3.org/2000/svg\" height=\"24px\" viewBox=\"0 -960 960 960\">\n",
              "    <path d=\"M120-120v-720h720v720H120Zm60-500h600v-160H180v160Zm220 220h160v-160H400v160Zm0 220h160v-160H400v160ZM180-400h160v-160H180v160Zm440 0h160v-160H620v160ZM180-180h160v-160H180v160Zm440 0h160v-160H620v160Z\"/>\n",
              "  </svg>\n",
              "    </button>\n",
              "\n",
              "  <style>\n",
              "    .colab-df-container {\n",
              "      display:flex;\n",
              "      gap: 12px;\n",
              "    }\n",
              "\n",
              "    .colab-df-convert {\n",
              "      background-color: #E8F0FE;\n",
              "      border: none;\n",
              "      border-radius: 50%;\n",
              "      cursor: pointer;\n",
              "      display: none;\n",
              "      fill: #1967D2;\n",
              "      height: 32px;\n",
              "      padding: 0 0 0 0;\n",
              "      width: 32px;\n",
              "    }\n",
              "\n",
              "    .colab-df-convert:hover {\n",
              "      background-color: #E2EBFA;\n",
              "      box-shadow: 0px 1px 2px rgba(60, 64, 67, 0.3), 0px 1px 3px 1px rgba(60, 64, 67, 0.15);\n",
              "      fill: #174EA6;\n",
              "    }\n",
              "\n",
              "    .colab-df-buttons div {\n",
              "      margin-bottom: 4px;\n",
              "    }\n",
              "\n",
              "    [theme=dark] .colab-df-convert {\n",
              "      background-color: #3B4455;\n",
              "      fill: #D2E3FC;\n",
              "    }\n",
              "\n",
              "    [theme=dark] .colab-df-convert:hover {\n",
              "      background-color: #434B5C;\n",
              "      box-shadow: 0px 1px 3px 1px rgba(0, 0, 0, 0.15);\n",
              "      filter: drop-shadow(0px 1px 2px rgba(0, 0, 0, 0.3));\n",
              "      fill: #FFFFFF;\n",
              "    }\n",
              "  </style>\n",
              "\n",
              "    <script>\n",
              "      const buttonEl =\n",
              "        document.querySelector('#df-f5460072-2a58-4ed3-89c1-3f4aae491adb button.colab-df-convert');\n",
              "      buttonEl.style.display =\n",
              "        google.colab.kernel.accessAllowed ? 'block' : 'none';\n",
              "\n",
              "      async function convertToInteractive(key) {\n",
              "        const element = document.querySelector('#df-f5460072-2a58-4ed3-89c1-3f4aae491adb');\n",
              "        const dataTable =\n",
              "          await google.colab.kernel.invokeFunction('convertToInteractive',\n",
              "                                                    [key], {});\n",
              "        if (!dataTable) return;\n",
              "\n",
              "        const docLinkHtml = 'Like what you see? Visit the ' +\n",
              "          '<a target=\"_blank\" href=https://colab.research.google.com/notebooks/data_table.ipynb>data table notebook</a>'\n",
              "          + ' to learn more about interactive tables.';\n",
              "        element.innerHTML = '';\n",
              "        dataTable['output_type'] = 'display_data';\n",
              "        await google.colab.output.renderOutput(dataTable, element);\n",
              "        const docLink = document.createElement('div');\n",
              "        docLink.innerHTML = docLinkHtml;\n",
              "        element.appendChild(docLink);\n",
              "      }\n",
              "    </script>\n",
              "  </div>\n",
              "\n",
              "    </div>\n",
              "  </div>\n"
            ]
          },
          "metadata": {},
          "execution_count": 44
        }
      ]
    },
    {
      "cell_type": "markdown",
      "source": [
        "The given outputs are 3 top sentences among 15 sentences that are closest to the query. The distance is a scoring method to show how closely the text is related with the query."
      ],
      "metadata": {
        "id": "E8Sjt9mwLdYS"
      }
    }
  ]
}