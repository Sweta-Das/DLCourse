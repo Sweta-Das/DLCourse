{
  "nbformat": 4,
  "nbformat_minor": 0,
  "metadata": {
    "colab": {
      "provenance": [],
      "authorship_tag": "ABX9TyNXo/t28el2rwt2V0UTHKZK",
      "include_colab_link": true
    },
    "kernelspec": {
      "name": "python3",
      "display_name": "Python 3"
    },
    "language_info": {
      "name": "python"
    }
  },
  "cells": [
    {
      "cell_type": "markdown",
      "metadata": {
        "id": "view-in-github",
        "colab_type": "text"
      },
      "source": [
        "<a href=\"https://colab.research.google.com/github/Sweta-Das/ChatGPT-Prompt_Development/blob/main/ChatGPT_Transforming_%26_Expanding.ipynb\" target=\"_parent\"><img src=\"https://colab.research.google.com/assets/colab-badge.svg\" alt=\"Open In Colab\"/></a>"
      ]
    },
    {
      "cell_type": "markdown",
      "source": [
        "# Transforming\n",
        "LLMs are commonly used for text transformation tasks such as language translation, spelling and grammar checking, tone adjustment and format conversion."
      ],
      "metadata": {
        "id": "f35nk7Sc_VHO"
      }
    },
    {
      "cell_type": "code",
      "execution_count": null,
      "metadata": {
        "id": "mycUZt_aljJ9"
      },
      "outputs": [],
      "source": [
        "!pip install openai\n",
        "!pip install python-dotenv"
      ]
    },
    {
      "cell_type": "code",
      "source": [
        "import openai\n",
        "import os\n",
        "\n",
        "from dotenv import load_dotenv, find_dotenv\n",
        "_ = load_dotenv(find_dotenv()) # read local .env file\n",
        "\n",
        "openai.api_key  = os.getenv('OPENAI_API_KEY')"
      ],
      "metadata": {
        "id": "9EmqEAXt_yrT"
      },
      "execution_count": 2,
      "outputs": []
    },
    {
      "cell_type": "code",
      "source": [
        "def get_completion(prompt, model=\"gpt-3.5-turbo\", temperature=0):\n",
        "    messages = [{\"role\": \"user\", \"content\": prompt}]\n",
        "    response = openai.ChatCompletion.create(\n",
        "        model=model,\n",
        "        messages=messages,\n",
        "        temperature=temperature,\n",
        "    )\n",
        "    return response.choices[0].message[\"content\"]"
      ],
      "metadata": {
        "id": "Ge_MOQ4J_2c_"
      },
      "execution_count": 3,
      "outputs": []
    },
    {
      "cell_type": "markdown",
      "source": [
        "## Translation"
      ],
      "metadata": {
        "id": "1_6r_Y0VAEA3"
      }
    },
    {
      "cell_type": "code",
      "source": [
        "prompt = f\"\"\"\n",
        "Translate the following English text to Spanish: \\\n",
        "```Hi, I would like to order a blender```\n",
        "\"\"\"\n",
        "response = get_completion(prompt)\n",
        "print(response)"
      ],
      "metadata": {
        "id": "0QwROJOpAB_8"
      },
      "execution_count": null,
      "outputs": []
    },
    {
      "cell_type": "markdown",
      "source": [
        "OUTPUT:<br/>\n",
        "Hola, me gustaría ordenar una licuadora."
      ],
      "metadata": {
        "id": "zlGmI-MfATrp"
      }
    },
    {
      "cell_type": "code",
      "source": [
        "prompt = f\"\"\"\n",
        "Tell me which language this is:\n",
        "```Combien coûte le lampadaire?```\n",
        "\"\"\"\n",
        "response = get_completion(prompt)\n",
        "print(response)"
      ],
      "metadata": {
        "id": "hgiLNjCaAVz7"
      },
      "execution_count": null,
      "outputs": []
    },
    {
      "cell_type": "markdown",
      "source": [
        "OUTPUT:<br/>\n",
        "This language is French."
      ],
      "metadata": {
        "id": "g7PvewNpAcbo"
      }
    },
    {
      "cell_type": "code",
      "source": [
        "prompt = f\"\"\"\n",
        "Translate the following  text to French and Spanish\n",
        "and English pirate: \\\n",
        "```I want to order a basketball```\n",
        "\"\"\"\n",
        "response = get_completion(prompt)\n",
        "print(response)"
      ],
      "metadata": {
        "id": "i8ehfwuSAehu"
      },
      "execution_count": null,
      "outputs": []
    },
    {
      "cell_type": "markdown",
      "source": [
        "OUTPUT:<br/>\n",
        "French: ```Je veux commander un ballon de basket```<br/>\n",
        "Spanish: ```Quiero ordenar una pelota de baloncesto```<br/>\n",
        "English: ```I want to order a basketball```"
      ],
      "metadata": {
        "id": "8Pq4aU5JAnyp"
      }
    },
    {
      "cell_type": "code",
      "source": [
        "prompt = f\"\"\"\n",
        "Translate the following text to Spanish in both the \\\n",
        "formal and informal forms:\n",
        "'Would you like to order a pillow?'\n",
        "\"\"\"\n",
        "response = get_completion(prompt)\n",
        "print(response)"
      ],
      "metadata": {
        "id": "Z-qaZFZFAtYg"
      },
      "execution_count": null,
      "outputs": []
    },
    {
      "cell_type": "markdown",
      "source": [
        "OUTPUT:<br/>\n",
        "Formal: ¿Le gustaría ordenar una almohada?<br/>\n",
        "Informal: ¿Te gustaría ordenar una almohada?"
      ],
      "metadata": {
        "id": "rSkAin19A1it"
      }
    },
    {
      "cell_type": "markdown",
      "source": [
        "## Universal Translator\n",
        "Imagine you are in charge of IT at a large multinational e-commerce company. Users are messaging you with IT issues in all their native languages. Your staff is from all over the world and speaks only their native languages. You need a universal translator!"
      ],
      "metadata": {
        "id": "QqPbwIzlBDVR"
      }
    },
    {
      "cell_type": "code",
      "source": [
        "user_messages = [\n",
        "  \"La performance du système est plus lente que d'habitude.\",  # System performance is slower than normal\n",
        "  \"Mi monitor tiene píxeles que no se iluminan.\",              # My monitor has pixels that are not lighting\n",
        "  \"Il mio mouse non funziona\",                                 # My mouse is not working\n",
        "  \"Mój klawisz Ctrl jest zepsuty\",                             # My keyboard has a broken control key\n",
        "  \"我的屏幕在闪烁\"                                               # My screen is flashing\n",
        "]"
      ],
      "metadata": {
        "id": "wRaI9a0qA4xy"
      },
      "execution_count": null,
      "outputs": []
    },
    {
      "cell_type": "code",
      "source": [
        "for issue in user_messages:\n",
        "    prompt = f\"Tell me what language this is: ```{issue}```\"\n",
        "    lang = get_completion(prompt)\n",
        "    print(f\"Original message ({lang}): {issue}\")\n",
        "\n",
        "    prompt = f\"\"\"\n",
        "    Translate the following  text to English \\\n",
        "    and Korean: ```{issue}```\n",
        "    \"\"\"\n",
        "    response = get_completion(prompt)\n",
        "    print(response, \"\\n\")"
      ],
      "metadata": {
        "id": "xuJyyo53BcwY"
      },
      "execution_count": null,
      "outputs": []
    },
    {
      "cell_type": "markdown",
      "source": [
        "OUTPUT:<br/>\n",
        "Original message (The language is French.): La performance du système est plus lente que d'habitude.<br/>\n",
        "The performance of the system is slower than usual.\n",
        "\n",
        "시스템의 성능이 평소보다 느립니다.\n",
        "<br/>\n",
        "\n",
        "Original message (The language is Spanish.): Mi monitor tiene píxeles que no se iluminan.<br/>\n",
        "English: \"My monitor has pixels that do not light up.\"<br/>\n",
        "Korean: \"내 모니터에는 밝아지지 않는 픽셀이 있습니다.\"\n",
        "\n",
        "Original message (The language is Italian.): Il mio mouse non funziona<br/>\n",
        "English: \"My mouse is not working.\"<br/>\n",
        "Korean: \"내 마우스가 작동하지 않습니다.\"\n",
        "\n",
        "Original message (The language is Polish.): Mój klawisz Ctrl jest zepsuty<br/>\n",
        "English: \"My Ctrl key is broken\"<br/>\n",
        "Korean: \"내 Ctrl 키가 고장 났어요\"\n",
        "\n",
        "Original message (The language is Chinese.): 我的屏幕在闪烁<br/>\n",
        "English: My screen is flickering.<br/>\n",
        "Korean: 내 화면이 깜박거립니다."
      ],
      "metadata": {
        "id": "YY82mK3xBeFc"
      }
    },
    {
      "cell_type": "code",
      "source": [
        "for issue in user_messages:\n",
        "    prompt = f\"Tell me what language this is: ```{issue}```\"\n",
        "    lang = get_completion(prompt)\n",
        "    print(f\"Original message ({lang}): {issue}\")\n",
        "\n",
        "    prompt = f\"\"\"\n",
        "    Translate the following  text to Hindi \\\n",
        "    and Nepali: ```{issue}```\n",
        "    \"\"\"\n",
        "    response = get_completion(prompt)\n",
        "    print(response, \"\\n\")"
      ],
      "metadata": {
        "id": "0wKZ4SwvB9fT"
      },
      "execution_count": null,
      "outputs": []
    },
    {
      "cell_type": "markdown",
      "source": [
        "OUTPUT:<br/>\n",
        "Original message (The language is French.): La performance du système est plus lente que d'habitude.<br/>\n",
        "Hindi translation: ```सिस्टम का प्रदर्शन आम तुलना में धीमा है।```<br/>\n",
        "Nepali translation: ```सिस्टमको प्रदर्शन अपारंगी भएको छ।```\n",
        "\n",
        "Original message (The language is Spanish.): Mi monitor tiene píxeles que no se iluminan.<br/>\n",
        "Hindi translation: ```मेरे मॉनिटर में पिक्सेल हैं जो जलाए नहीं जाते।```<br/>\n",
        "Nepali translation: ```मेरो मनिटरमा पिक्सेलहरू उज्यालो नगर्ने छन्।```\n",
        "\n",
        "Original message (The language is Italian.): Il mio mouse non funziona<br/>\n",
        "Hindi: ```मेरा माउस काम नहीं कर रहा है।```<br/>\n",
        "Nepali: ```मेरो माउस काम गर्दैन।```\n",
        "\n",
        "Original message (The language is Polish.): Mój klawisz Ctrl jest zepsuty<br/>\n",
        "Hindi: ```मेरा कंट्रोल की बटन खराब हो गया है।```<br/>\n",
        "Nepali: ```मेरो कन्ट्रोल कुल्चा खराब भयो। ```\n",
        "\n",
        "Original message (The language is Chinese.): 我的屏幕在闪烁<br/>\n",
        "Hindi translation: ```मेरी स्क्रीन झलक रही है```<br/>\n",
        "Nepali translation: ```मेरो स्क्रिन चम्किरहेको छ```"
      ],
      "metadata": {
        "id": "BsGl9QdvChXh"
      }
    },
    {
      "cell_type": "markdown",
      "source": [
        "## Tone Transformation\n",
        "Writings vary based on the intended audience. We don't write same text message to our professor or some official, how we write to our siblings."
      ],
      "metadata": {
        "id": "g4Hcw2MmDTqA"
      }
    },
    {
      "cell_type": "code",
      "source": [
        "prompt = f\"\"\"\n",
        "Translate the following from slang to a business letter:\n",
        "'Dude, This is Joe, check out this spec on this standing lamp.'\n",
        "\"\"\"\n",
        "response = get_completion(prompt)\n",
        "print(response)"
      ],
      "metadata": {
        "id": "vvPHJDCQDE0s"
      },
      "execution_count": null,
      "outputs": []
    },
    {
      "cell_type": "markdown",
      "source": [
        "OUTPUT:<Br/>\n",
        "Dear Sir/Madam,\n",
        "\n",
        "I hope this letter finds you well. My name is Joe, and I am writing to bring your attention to a specification document regarding a standing lamp.\n",
        "\n",
        "I kindly request that you take a moment to review the attached document, as it provides detailed information about the features and specifications of the aforementioned standing lamp.\n",
        "\n",
        "Thank you for your time and consideration. I look forward to discussing this matter further with you.\n",
        "\n",
        "Yours sincerely,<Br/>\n",
        "Joe"
      ],
      "metadata": {
        "id": "LvSW-obADl9K"
      }
    },
    {
      "cell_type": "markdown",
      "source": [
        "## Format Conversion\n",
        "Translating between formats using ChatGPT."
      ],
      "metadata": {
        "id": "FhOsNPCXEGXz"
      }
    },
    {
      "cell_type": "code",
      "source": [
        "# JSON to HTML\n",
        "data_json = { \"resturant employees\" :[\n",
        "    {\"name\":\"Shyam\", \"email\":\"shyamjaiswal@gmail.com\"},\n",
        "    {\"name\":\"Bob\", \"email\":\"bob32@gmail.com\"},\n",
        "    {\"name\":\"Jai\", \"email\":\"jai87@gmail.com\"}\n",
        "]}\n",
        "\n",
        "prompt = f\"\"\"\n",
        "Translate the following python dictionary from JSON to an HTML \\\n",
        "table with column headers and title: {data_json}\n",
        "\"\"\"\n",
        "response = get_completion(prompt)\n",
        "print(response)"
      ],
      "metadata": {
        "id": "m2P1fMJxDp6c"
      },
      "execution_count": null,
      "outputs": []
    },
    {
      "cell_type": "markdown",
      "source": [
        "OUTPUT:<br/>\n",
        "<!DOCTYPE html>\n",
        "<html>\n",
        "<head>\n",
        "<style>\n",
        "table {\n",
        "  font-family: arial, sans-serif;\n",
        "  border-collapse: collapse;\n",
        "  width: 100%;\n",
        "}\n",
        "\n",
        "td, th {\n",
        "  border: 1px solid #dddddd;\n",
        "  text-align: left;\n",
        "  padding: 8px;\n",
        "}\n",
        "\n",
        "tr:nth-child(even) {\n",
        "  background-color: #dddddd;\n",
        "}\n",
        "</style>\n",
        "</head>\n",
        "<body>\n",
        "\n",
        "<h2>Restaurant Employees</h2>\n",
        "\n",
        "<table>\n",
        "  <tr>\n",
        "    <th>Name</th>\n",
        "    <th>Email</th>\n",
        "  </tr>\n",
        "  <tr>\n",
        "    <td>Shyam</td>\n",
        "    <td>shyamjaiswal@gmail.com</td>\n",
        "  </tr>\n",
        "  <tr>\n",
        "    <td>Bob</td>\n",
        "    <td>bob32@gmail.com</td>\n",
        "  </tr>\n",
        "  <tr>\n",
        "    <td>Jai</td>\n",
        "    <td>jai87@gmail.com</td>\n",
        "  </tr>\n",
        "</table>\n",
        "\n",
        "</body>\n",
        "</html>"
      ],
      "metadata": {
        "id": "hYjW1-vfERJF"
      }
    },
    {
      "cell_type": "code",
      "source": [
        "# Visualizing it\n",
        "from IPython.display import display, Markdown, Latex, HTML, JSON\n",
        "display(HTML(response))"
      ],
      "metadata": {
        "id": "ScvPE4jFEY6O"
      },
      "execution_count": null,
      "outputs": []
    },
    {
      "cell_type": "markdown",
      "source": [
        "## Spellcheck/Grammar check\n",
        "LLMs can also be used to proofread and correct the text."
      ],
      "metadata": {
        "id": "kTp-jtVeEzbh"
      }
    },
    {
      "cell_type": "code",
      "source": [
        "text = [\n",
        "  \"The girl with the black and white puppies have a ball.\",  # The girl has a ball.\n",
        "  \"Yolanda has her notebook.\", # ok\n",
        "  \"Its going to be a long day. Does the car need it’s oil changed?\",  # Homonyms\n",
        "  \"Their goes my freedom. There going to bring they’re suitcases.\",  # Homonyms\n",
        "  \"Your going to need you’re notebook.\",  # Homonyms\n",
        "  \"That medicine effects my ability to sleep. Have you heard of the butterfly affect?\", # Homonyms\n",
        "  \"This phrase is to cherck chatGPT for speling abilitty\"  # spelling\n",
        "]\n",
        "for t in text:\n",
        "    prompt = f\"\"\"Proofread and correct the following text\n",
        "    and rewrite the corrected version. If you don't find\n",
        "    and errors, just say \"No errors found\". Don't use\n",
        "    any punctuation around the text:\n",
        "    ```{t}```\"\"\"\n",
        "    response = get_completion(prompt)\n",
        "    print(response)"
      ],
      "metadata": {
        "id": "Z2fcB7IBEdXH"
      },
      "execution_count": null,
      "outputs": []
    },
    {
      "cell_type": "markdown",
      "source": [
        "OUTPUT:<br/>\n",
        "The girl with the black and white puppies has a ball.<br/>\n",
        "No errors found.<br/>\n",
        "No errors found.<br/>\n",
        "There goes my freedom. They're going to bring their suitcases.<br/>\n",
        "You're going to need your notebook.<br/>\n",
        "That medicine affects my ability to sleep. Have you heard of the butterfly effect?<br/>\n",
        "This phrase is to check chatGPT for spelling ability."
      ],
      "metadata": {
        "id": "jESd1VCtFB3r"
      }
    },
    {
      "cell_type": "code",
      "source": [
        "# Using ChatGPT to proofread statements before posting them online.\n",
        "text = f\"\"\"\n",
        "Got this for my daughter for her birthday cuz she keeps taking \\\n",
        "mine from my room.  Yes, adults also like pandas too.  She takes \\\n",
        "it everywhere with her, and it's super soft and cute.  One of the \\\n",
        "ears is a bit lower than the other, and I don't think that was \\\n",
        "designed to be asymmetrical. It's a bit small for what I paid for it \\\n",
        "though. I think there might be other options that are bigger for \\\n",
        "the same price.  It arrived a day earlier than expected, so I got \\\n",
        "to play with it myself before I gave it to my daughter.\n",
        "\"\"\"\n",
        "prompt = f\"proofread and correct this review: ```{text}```\"\n",
        "response = get_completion(prompt)\n",
        "print(response)"
      ],
      "metadata": {
        "id": "g1yJDigGFh5W"
      },
      "execution_count": null,
      "outputs": []
    },
    {
      "cell_type": "markdown",
      "source": [
        "OUTPUT:<br/>\n",
        "Got this for my daughter for her birthday because she keeps taking mine from my room. Yes, adults also like pandas too. She takes it everywhere with her, and it's super soft and cute. However, one of the ears is a bit lower than the other, and I don't think that was designed to be asymmetrical. Additionally, it's a bit small for what I paid for it. I believe there might be other options that are bigger for the same price. On the positive side, it arrived a day earlier than expected, so I got to play with it myself before I gave it to my daughter."
      ],
      "metadata": {
        "id": "Pd9_Z29cFyP6"
      }
    },
    {
      "cell_type": "code",
      "source": [
        "# Checking differences between the original and proofreaded texts\n",
        "from redlines import Redlines\n",
        "\n",
        "diff = Redlines(text,response)\n",
        "display(Markdown(diff.output_markdown))"
      ],
      "metadata": {
        "id": "B3dYxc0UFrSn"
      },
      "execution_count": null,
      "outputs": []
    },
    {
      "cell_type": "code",
      "source": [
        "# Using style formatting\n",
        "prompt = f\"\"\"\n",
        "proofread and correct this review. Make it more compelling.\n",
        "Ensure it follows APA style guide and targets an advanced reader.\n",
        "Output in markdown format.\n",
        "Text: ```{text}```\n",
        "\"\"\"\n",
        "response = get_completion(prompt)\n",
        "display(Markdown(response))"
      ],
      "metadata": {
        "id": "M_7Ze8rmGQbl"
      },
      "execution_count": null,
      "outputs": []
    },
    {
      "cell_type": "markdown",
      "source": [
        "OUTPUT:<br/>\n",
        "Review of a Panda Plush Toy\n",
        "\n",
        "I purchased this adorable panda plush toy as a birthday gift for my daughter, who has a penchant for taking my belongings from my room. Contrary to popular belief, adults can also appreciate the charm of pandas. This cuddly companion has quickly become her constant companion, accompanying her wherever she goes. Its irresistibly soft and cute appearance is truly captivating.\n",
        "\n",
        "However, upon closer inspection, I noticed a slight asymmetry in the placement of the ears. While this may not have been intentional, it adds a unique touch to the toy's design. Nevertheless, considering the price I paid, I expected a slightly larger size. It is worth noting that there may be alternative options available at the same price point that offer a more substantial presence.\n",
        "\n",
        "On a positive note, the delivery of the panda plush toy exceeded my expectations. It arrived a day earlier than anticipated, allowing me the opportunity to indulge in some playtime with it before presenting it to my daughter. This unexpected bonus further enhanced my overall satisfaction with the purchase.\n",
        "\n",
        "In conclusion, despite the minor imperfections and size discrepancy, this panda plush toy has proven to be a delightful addition to my daughter's collection. Its undeniable charm and exceptional softness make it a worthwhile investment for both children and adults alike."
      ],
      "metadata": {
        "id": "2lv4ghOVGWeC"
      }
    },
    {
      "cell_type": "markdown",
      "source": [
        "# Expanding\n",
        "LLMs can be used to expand short text in emails or essays."
      ],
      "metadata": {
        "id": "5iBN34u-GkB8"
      }
    },
    {
      "cell_type": "code",
      "source": [
        "import openai\n",
        "import os\n",
        "\n",
        "from dotenv import load_dotenv, find_dotenv\n",
        "_ = load_dotenv(find_dotenv()) # read local .env file\n",
        "\n",
        "openai.api_key  = os.getenv('OPENAI_API_KEY')"
      ],
      "metadata": {
        "id": "hiyjo3iuGZ1p"
      },
      "execution_count": null,
      "outputs": []
    },
    {
      "cell_type": "code",
      "source": [
        "def get_completion(prompt, model=\"gpt-3.5-turbo\",temperature=0): # Andrew mentioned that the prompt/ completion paradigm is preferable for this class\n",
        "    messages = [{\"role\": \"user\", \"content\": prompt}]\n",
        "    response = openai.ChatCompletion.create(\n",
        "        model=model,\n",
        "        messages=messages,\n",
        "        temperature=temperature, # this is the degree of randomness of the model's output\n",
        "    )\n",
        "    return response.choices[0].message[\"content\"]"
      ],
      "metadata": {
        "id": "pLhcMTGsG4Xe"
      },
      "execution_count": null,
      "outputs": []
    },
    {
      "cell_type": "markdown",
      "source": [
        "## Customizing the automated reply to a customer email"
      ],
      "metadata": {
        "id": "wav3IybKG8iH"
      }
    },
    {
      "cell_type": "code",
      "source": [
        "# given the sentiment from the lesson on \"inferring\",\n",
        "# and the original customer message, customize the email\n",
        "sentiment = \"negative\"\n",
        "\n",
        "# review for a blender\n",
        "review = f\"\"\"\n",
        "So, they still had the 17 piece system on seasonal \\\n",
        "sale for around $49 in the month of November, about \\\n",
        "half off, but for some reason (call it price gouging) \\\n",
        "around the second week of December the prices all went \\\n",
        "up to about anywhere from between $70-$89 for the same \\\n",
        "system. And the 11 piece system went up around $10 or \\\n",
        "so in price also from the earlier sale price of $29. \\\n",
        "So it looks okay, but if you look at the base, the part \\\n",
        "where the blade locks into place doesn’t look as good \\\n",
        "as in previous editions from a few years ago, but I \\\n",
        "plan to be very gentle with it (example, I crush \\\n",
        "very hard items like beans, ice, rice, etc. in the \\\n",
        "blender first then pulverize them in the serving size \\\n",
        "I want in the blender then switch to the whipping \\\n",
        "blade for a finer flour, and use the cross cutting blade \\\n",
        "first when making smoothies, then use the flat blade \\\n",
        "if I need them finer/less pulpy). Special tip when making \\\n",
        "smoothies, finely cut and freeze the fruits and \\\n",
        "vegetables (if using spinach-lightly stew soften the \\\n",
        "spinach then freeze until ready for use-and if making \\\n",
        "sorbet, use a small to medium sized food processor) \\\n",
        "that you plan to use that way you can avoid adding so \\\n",
        "much ice if at all-when making your smoothie. \\\n",
        "After about a year, the motor was making a funny noise. \\\n",
        "I called customer service but the warranty expired \\\n",
        "already, so I had to buy another one. FYI: The overall \\\n",
        "quality has gone done in these types of products, so \\\n",
        "they are kind of counting on brand recognition and \\\n",
        "consumer loyalty to maintain sales. Got it in about \\\n",
        "two days.\n",
        "\"\"\""
      ],
      "metadata": {
        "id": "9_mQfZOQHCN5"
      },
      "execution_count": null,
      "outputs": []
    },
    {
      "cell_type": "code",
      "source": [
        "prompt = f\"\"\"\n",
        "You are a customer service AI assistant.\n",
        "Your task is to send an email reply to a valued customer.\n",
        "Given the customer email delimited by ```, \\\n",
        "Generate a reply to thank the customer for their review.\n",
        "If the sentiment is positive or neutral, thank them for \\\n",
        "their review.\n",
        "If the sentiment is negative, apologize and suggest that \\\n",
        "they can reach out to customer service.\n",
        "Make sure to use specific details from the review.\n",
        "Write in a concise and professional tone.\n",
        "Sign the email as `AI customer agent`.\n",
        "Customer review: ```{review}```\n",
        "Review sentiment: {sentiment}\n",
        "\"\"\"\n",
        "response = get_completion(prompt)\n",
        "print(response)"
      ],
      "metadata": {
        "id": "pJFRf360HIXY"
      },
      "execution_count": null,
      "outputs": []
    },
    {
      "cell_type": "markdown",
      "source": [
        "OUTPUT:<br/>\n",
        "Dear Valued Customer,\n",
        "\n",
        "Thank you for taking the time to share your review with us. We appreciate your feedback and apologize for any inconvenience you may have experienced.\n",
        "\n",
        "We are sorry to hear about the price increase you noticed in December. We strive to provide competitive pricing for our products, and we understand your frustration. If you have any further concerns regarding pricing, we recommend reaching out to our customer service team who will be happy to assist you.\n",
        "\n",
        "We also appreciate your feedback regarding the base of the system. We continuously work to improve the quality of our products, and your comments will be taken into consideration for future enhancements.\n",
        "\n",
        "Regarding the motor issue you encountered, we apologize for any inconvenience caused. Our customer service team is available to assist you with any technical difficulties you may encounter, even if the warranty has expired. Please do not hesitate to reach out to them for further assistance.\n",
        "\n",
        "Thank you once again for your review. We value your loyalty and appreciate your support. If you have any further questions or concerns, please feel free to contact our customer service team.\n",
        "\n",
        "Best regards,\n",
        "\n",
        "AI customer agent"
      ],
      "metadata": {
        "id": "M6bnlH-VHNqs"
      }
    },
    {
      "cell_type": "code",
      "source": [
        "# Reminding model to use detail's from the customer's email\n",
        "# Use of temperature parameter\n",
        "prompt = f\"\"\"\n",
        "You are a customer service AI assistant.\n",
        "Your task is to send an email reply to a valued customer.\n",
        "Given the customer email delimited by ```, \\\n",
        "Generate a reply to thank the customer for their review.\n",
        "If the sentiment is positive or neutral, thank them for \\\n",
        "their review.\n",
        "If the sentiment is negative, apologize and suggest that \\\n",
        "they can reach out to customer service.\n",
        "Make sure to use specific details from the review.\n",
        "Write in a concise and professional tone.\n",
        "Sign the email as `AI customer agent`.\n",
        "Customer review: ```{review}```\n",
        "Review sentiment: {sentiment}\n",
        "\"\"\"\n",
        "response = get_completion(prompt, temperature=0.7)\n",
        "print(response)"
      ],
      "metadata": {
        "id": "vg8aFf2-HkHF"
      },
      "execution_count": null,
      "outputs": []
    },
    {
      "cell_type": "markdown",
      "source": [
        "OUTPUT 1:<br/>\n",
        "Dear Valued Customer,\n",
        "\n",
        "Thank you for taking the time to share your review with us. We appreciate your feedback and apologize for any inconvenience you may have experienced with our pricing and the quality of our product.\n",
        "\n",
        "We sincerely apologize for the increase in prices during December. Our aim is to provide competitive and fair pricing to all our customers, and we understand your frustration with the sudden price change. We assure you that we take your concerns seriously and will review our pricing strategies to ensure a better customer experience in the future.\n",
        "\n",
        "Regarding the issue you mentioned about the base of the system, we apologize for any disappointment caused. We continuously strive to improve the quality of our products, and your feedback plays a crucial role in this process. We appreciate your gentleness in handling the system and hope that it continues to meet your needs.\n",
        "\n",
        "We understand your frustration with the motor noise and regret that the warranty had already expired at the time of your call to customer service. We encourage you to reach out to our customer service team again, as they may be able to assist you with any troubleshooting or offer alternative solutions.\n",
        "\n",
        "Thank you once again for bringing these matters to our attention. We value your loyalty as a customer and appreciate your feedback as it helps us improve our products and services. If you have any further concerns or questions, please do not hesitate to contact our customer service team.\n",
        "\n",
        "Best Regards,<br/>\n",
        "AI customer agent"
      ],
      "metadata": {
        "id": "uH4imnikJXvA"
      }
    },
    {
      "cell_type": "markdown",
      "source": [
        "OUTPUT 2:<Br/>\n",
        "Dear Valued Customer,\n",
        "\n",
        "Thank you for taking the time to share your feedback with us. We appreciate your honest review of our 17 piece system, and we apologize for any inconvenience caused by the price changes.\n",
        "\n",
        "We understand your concern regarding the increase in prices during December. We strive to offer competitive prices to our customers, and we apologize if you felt that the pricing was unfair. We appreciate your loyalty and want to assure you that we value your satisfaction.\n",
        "\n",
        "Regarding the issue with the base of the system, we apologize for any disappointment caused. We appreciate your gentle usage and the specific tips you provided for using our blender effectively. We will take note of your feedback about the base and strive to improve our future editions.\n",
        "\n",
        "We are sorry to hear that you experienced a problem with the motor after a year of usage. Our customer service team is here to assist you, and we encourage you to reach out to them for further assistance, even if the warranty has expired. They will be able to provide guidance and explore possible solutions for you.\n",
        "\n",
        "Once again, thank you for your valuable feedback. We appreciate your support and look forward to serving you better in the future. If you have any further questions or concerns, please do not hesitate to contact our customer service team.\n",
        "\n",
        "Kind regards,\n",
        "\n",
        "AI customer agent"
      ],
      "metadata": {
        "id": "o8XyZ6h1JcuQ"
      }
    }
  ]
}